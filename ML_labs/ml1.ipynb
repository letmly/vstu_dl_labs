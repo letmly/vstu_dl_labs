{
 "cells": [
  {
   "cell_type": "code",
   "execution_count": 1,
   "id": "initial_id",
   "metadata": {
    "ExecuteTime": {
     "end_time": "2024-04-12T06:24:28.227361Z",
     "start_time": "2024-04-12T06:24:10.253205Z"
    },
    "collapsed": true,
    "jupyter": {
     "outputs_hidden": true
    }
   },
   "outputs": [],
   "source": [
    "import pandas as pd\n",
    "import numpy as np\n",
    "from sklearn import preprocessing"
   ]
  },
  {
   "cell_type": "code",
   "execution_count": 2,
   "id": "87c2cd4f8002062e",
   "metadata": {
    "ExecuteTime": {
     "end_time": "2024-04-12T06:24:28.362697Z",
     "start_time": "2024-04-12T06:24:28.229356Z"
    },
    "collapsed": false
   },
   "outputs": [
    {
     "name": "stdout",
     "output_type": "stream",
     "text": [
      "средний возраста до нормализации:  38.75757575757576\n",
      "после:  0.06690918637379796\n"
     ]
    }
   ],
   "source": [
    "df = pd.read_csv('lab1.csv',encoding='cp1251')\n",
    "array = np.array(df['age'])\n",
    "normal_arr = preprocessing.normalize([array])\n",
    "print(\"средний возраста до нормализации: \",df['age'].mean())\n",
    "print(\"после: \",normal_arr.mean())"
   ]
  },
  {
   "cell_type": "code",
   "execution_count": 3,
   "id": "297acd1fe61d20a",
   "metadata": {
    "ExecuteTime": {
     "end_time": "2024-04-12T06:24:28.526670Z",
     "start_time": "2024-04-12T06:24:28.367252Z"
    },
    "collapsed": false
   },
   "outputs": [
    {
     "name": "stdout",
     "output_type": "stream",
     "text": [
      "ds до нормализации всех столбцов\n",
      "               id         age      income  spending_rating\n",
      "count  198.000000  198.000000  198.000000       198.000000\n",
      "mean   100.424242   38.757576   60.893939        49.813131\n",
      "std     57.487512   13.909126   25.576279        25.644988\n",
      "min      1.000000   18.000000   15.000000         1.000000\n",
      "25%     51.250000   28.250000   43.000000        34.250000\n",
      "50%    100.500000   36.000000   62.000000        50.000000\n",
      "75%    149.750000   48.750000   78.000000        72.000000\n",
      "max    200.000000   70.000000  137.000000        99.000000\n",
      "ds после нормализации\n",
      "                0           1           2           3\n",
      "count  198.000000  198.000000  198.000000  198.000000\n",
      "mean     0.061715    0.066909    0.065547    0.063219\n",
      "std      0.035328    0.024012    0.027531    0.032546\n",
      "min      0.000615    0.031074    0.016146    0.001269\n",
      "25%      0.031495    0.048769    0.046286    0.043467\n",
      "50%      0.061761    0.062149    0.066738    0.063456\n",
      "75%      0.092027    0.084160    0.083960    0.091376\n",
      "max      0.122908    0.120845    0.147468    0.125642\n"
     ]
    }
   ],
   "source": [
    "normal = preprocessing.normalize(df, axis=0)\n",
    "print(\"ds до нормализации всех столбцов\")\n",
    "print(df.describe())\n",
    "print(\"ds после нормализации\")\n",
    "print(pd.DataFrame(normal).describe())"
   ]
  },
  {
   "cell_type": "code",
   "execution_count": 4,
   "id": "d60ca21cc8e7cdec",
   "metadata": {
    "ExecuteTime": {
     "end_time": "2024-04-12T06:24:28.650323Z",
     "start_time": "2024-04-12T06:24:28.534666Z"
    },
    "collapsed": false
   },
   "outputs": [
    {
     "data": {
      "text/html": [
       "<div>\n",
       "<style scoped>\n",
       "    .dataframe tbody tr th:only-of-type {\n",
       "        vertical-align: middle;\n",
       "    }\n",
       "\n",
       "    .dataframe tbody tr th {\n",
       "        vertical-align: top;\n",
       "    }\n",
       "\n",
       "    .dataframe thead th {\n",
       "        text-align: right;\n",
       "    }\n",
       "</style>\n",
       "<table border=\"1\" class=\"dataframe\">\n",
       "  <thead>\n",
       "    <tr style=\"text-align: right;\">\n",
       "      <th></th>\n",
       "      <th>id</th>\n",
       "      <th>age</th>\n",
       "      <th>income</th>\n",
       "      <th>spending_rating</th>\n",
       "    </tr>\n",
       "  </thead>\n",
       "  <tbody>\n",
       "    <tr>\n",
       "      <th>count</th>\n",
       "      <td>198.000000</td>\n",
       "      <td>198.000000</td>\n",
       "      <td>198.000000</td>\n",
       "      <td>198.000000</td>\n",
       "    </tr>\n",
       "    <tr>\n",
       "      <th>mean</th>\n",
       "      <td>0.499619</td>\n",
       "      <td>0.399184</td>\n",
       "      <td>0.376180</td>\n",
       "      <td>0.498093</td>\n",
       "    </tr>\n",
       "    <tr>\n",
       "      <th>std</th>\n",
       "      <td>0.288882</td>\n",
       "      <td>0.267483</td>\n",
       "      <td>0.209642</td>\n",
       "      <td>0.261684</td>\n",
       "    </tr>\n",
       "    <tr>\n",
       "      <th>min</th>\n",
       "      <td>0.000000</td>\n",
       "      <td>0.000000</td>\n",
       "      <td>0.000000</td>\n",
       "      <td>0.000000</td>\n",
       "    </tr>\n",
       "    <tr>\n",
       "      <th>25%</th>\n",
       "      <td>0.252513</td>\n",
       "      <td>0.197115</td>\n",
       "      <td>0.229508</td>\n",
       "      <td>0.339286</td>\n",
       "    </tr>\n",
       "    <tr>\n",
       "      <th>50%</th>\n",
       "      <td>0.500000</td>\n",
       "      <td>0.346154</td>\n",
       "      <td>0.385246</td>\n",
       "      <td>0.500000</td>\n",
       "    </tr>\n",
       "    <tr>\n",
       "      <th>75%</th>\n",
       "      <td>0.747487</td>\n",
       "      <td>0.591346</td>\n",
       "      <td>0.516393</td>\n",
       "      <td>0.724490</td>\n",
       "    </tr>\n",
       "    <tr>\n",
       "      <th>max</th>\n",
       "      <td>1.000000</td>\n",
       "      <td>1.000000</td>\n",
       "      <td>1.000000</td>\n",
       "      <td>1.000000</td>\n",
       "    </tr>\n",
       "  </tbody>\n",
       "</table>\n",
       "</div>"
      ],
      "text/plain": [
       "               id         age      income  spending_rating\n",
       "count  198.000000  198.000000  198.000000       198.000000\n",
       "mean     0.499619    0.399184    0.376180         0.498093\n",
       "std      0.288882    0.267483    0.209642         0.261684\n",
       "min      0.000000    0.000000    0.000000         0.000000\n",
       "25%      0.252513    0.197115    0.229508         0.339286\n",
       "50%      0.500000    0.346154    0.385246         0.500000\n",
       "75%      0.747487    0.591346    0.516393         0.724490\n",
       "max      1.000000    1.000000    1.000000         1.000000"
      ]
     },
     "execution_count": 4,
     "metadata": {},
     "output_type": "execute_result"
    }
   ],
   "source": [
    "scaler = preprocessing.MinMaxScaler()\n",
    "d = scaler.fit_transform(df)\n",
    "scal_df = pd.DataFrame(d, columns=df.columns)\n",
    "scal_df.describe()"
   ]
  },
  {
   "cell_type": "markdown",
   "id": "f8dee728239f7afe",
   "metadata": {
    "collapsed": false
   },
   "source": [
    "### 1. Стандартизировать колонку из своего датасета используя sklearn предварительно преобразовав его в массив.\n"
   ]
  },
  {
   "cell_type": "code",
   "execution_count": 5,
   "id": "2f45b867cb5825a3",
   "metadata": {
    "ExecuteTime": {
     "end_time": "2024-04-12T06:24:28.676234Z",
     "start_time": "2024-04-12T06:24:28.658322Z"
    },
    "collapsed": false
   },
   "outputs": [
    {
     "name": "stdout",
     "output_type": "stream",
     "text": [
      "средний заработок до нормализации: 60.89393939393939\n",
      "после:  0.06554692435161912\n"
     ]
    }
   ],
   "source": [
    "arr_income = np.array(df['income'])\n",
    "arr_income_norm = preprocessing.normalize([arr_income])\n",
    "print(\"средний заработок до нормализации:\",df['income'].mean())\n",
    "print(\"после: \",arr_income_norm.mean())"
   ]
  },
  {
   "cell_type": "markdown",
   "id": "83dc1e98466f6e59",
   "metadata": {
    "collapsed": false
   },
   "source": [
    "### 2. Стандартизировать все данные из датасета по строкам и по столбцам."
   ]
  },
  {
   "cell_type": "code",
   "execution_count": 6,
   "id": "d6a54dc038d2654c",
   "metadata": {
    "ExecuteTime": {
     "end_time": "2024-04-12T06:24:28.817795Z",
     "start_time": "2024-04-12T06:24:28.681233Z"
    },
    "collapsed": false
   },
   "outputs": [
    {
     "name": "stdout",
     "output_type": "stream",
     "text": [
      "               id         age      income  spending_rating\n",
      "count  198.000000  198.000000  198.000000       198.000000\n",
      "mean   100.424242   38.757576   60.893939        49.813131\n",
      "std     57.487512   13.909126   25.576279        25.644988\n",
      "min      1.000000   18.000000   15.000000         1.000000\n",
      "25%     51.250000   28.250000   43.000000        34.250000\n",
      "50%    100.500000   36.000000   62.000000        50.000000\n",
      "75%    149.750000   48.750000   78.000000        72.000000\n",
      "max    200.000000   70.000000  137.000000        99.000000\n",
      "                0           1           2           3\n",
      "count  198.000000  198.000000  198.000000  198.000000\n",
      "mean     0.649367    0.321654    0.427692    0.393518\n",
      "std      0.220550    0.181847    0.072853    0.225304\n",
      "min      0.021780    0.103783    0.173013    0.005545\n",
      "25%      0.547257    0.179022    0.409160    0.270152\n",
      "50%      0.734912    0.268331    0.437439    0.390355\n",
      "75%      0.809974    0.421338    0.459415    0.475030\n",
      "max      0.890352    0.949112    0.867091    0.952546\n"
     ]
    }
   ],
   "source": [
    "normal_all = preprocessing.normalize(df)\n",
    "print(df.describe())\n",
    "print(pd.DataFrame(normal_all).describe())"
   ]
  },
  {
   "cell_type": "markdown",
   "id": "a9f1920d8c332ce2",
   "metadata": {
    "collapsed": false
   },
   "source": [
    "### 3. Привести данные к диапазону (0,3) используя MinMaxScaler."
   ]
  },
  {
   "cell_type": "code",
   "execution_count": 7,
   "id": "78330ca9b12fe56d",
   "metadata": {
    "ExecuteTime": {
     "end_time": "2024-04-12T06:24:28.903747Z",
     "start_time": "2024-04-12T06:24:28.823793Z"
    },
    "collapsed": false
   },
   "outputs": [
    {
     "data": {
      "text/html": [
       "<div>\n",
       "<style scoped>\n",
       "    .dataframe tbody tr th:only-of-type {\n",
       "        vertical-align: middle;\n",
       "    }\n",
       "\n",
       "    .dataframe tbody tr th {\n",
       "        vertical-align: top;\n",
       "    }\n",
       "\n",
       "    .dataframe thead th {\n",
       "        text-align: right;\n",
       "    }\n",
       "</style>\n",
       "<table border=\"1\" class=\"dataframe\">\n",
       "  <thead>\n",
       "    <tr style=\"text-align: right;\">\n",
       "      <th></th>\n",
       "      <th>id</th>\n",
       "      <th>age</th>\n",
       "      <th>income</th>\n",
       "      <th>spending_rating</th>\n",
       "    </tr>\n",
       "  </thead>\n",
       "  <tbody>\n",
       "    <tr>\n",
       "      <th>count</th>\n",
       "      <td>198.000000</td>\n",
       "      <td>198.000000</td>\n",
       "      <td>198.000000</td>\n",
       "      <td>198.000000</td>\n",
       "    </tr>\n",
       "    <tr>\n",
       "      <th>mean</th>\n",
       "      <td>1.498858</td>\n",
       "      <td>1.197552</td>\n",
       "      <td>1.128539</td>\n",
       "      <td>1.494280</td>\n",
       "    </tr>\n",
       "    <tr>\n",
       "      <th>std</th>\n",
       "      <td>0.866646</td>\n",
       "      <td>0.802450</td>\n",
       "      <td>0.628925</td>\n",
       "      <td>0.785051</td>\n",
       "    </tr>\n",
       "    <tr>\n",
       "      <th>min</th>\n",
       "      <td>0.000000</td>\n",
       "      <td>0.000000</td>\n",
       "      <td>0.000000</td>\n",
       "      <td>0.000000</td>\n",
       "    </tr>\n",
       "    <tr>\n",
       "      <th>25%</th>\n",
       "      <td>0.757538</td>\n",
       "      <td>0.591346</td>\n",
       "      <td>0.688525</td>\n",
       "      <td>1.017857</td>\n",
       "    </tr>\n",
       "    <tr>\n",
       "      <th>50%</th>\n",
       "      <td>1.500000</td>\n",
       "      <td>1.038462</td>\n",
       "      <td>1.155738</td>\n",
       "      <td>1.500000</td>\n",
       "    </tr>\n",
       "    <tr>\n",
       "      <th>75%</th>\n",
       "      <td>2.242462</td>\n",
       "      <td>1.774038</td>\n",
       "      <td>1.549180</td>\n",
       "      <td>2.173469</td>\n",
       "    </tr>\n",
       "    <tr>\n",
       "      <th>max</th>\n",
       "      <td>3.000000</td>\n",
       "      <td>3.000000</td>\n",
       "      <td>3.000000</td>\n",
       "      <td>3.000000</td>\n",
       "    </tr>\n",
       "  </tbody>\n",
       "</table>\n",
       "</div>"
      ],
      "text/plain": [
       "               id         age      income  spending_rating\n",
       "count  198.000000  198.000000  198.000000       198.000000\n",
       "mean     1.498858    1.197552    1.128539         1.494280\n",
       "std      0.866646    0.802450    0.628925         0.785051\n",
       "min      0.000000    0.000000    0.000000         0.000000\n",
       "25%      0.757538    0.591346    0.688525         1.017857\n",
       "50%      1.500000    1.038462    1.155738         1.500000\n",
       "75%      2.242462    1.774038    1.549180         2.173469\n",
       "max      3.000000    3.000000    3.000000         3.000000"
      ]
     },
     "execution_count": 7,
     "metadata": {},
     "output_type": "execute_result"
    }
   ],
   "source": [
    "scaler2 = preprocessing.MinMaxScaler(feature_range=(0,3))\n",
    "mima= scaler2.fit_transform(df)\n",
    "scal_df = pd.DataFrame(mima, columns=df.columns)\n",
    "scal_df.describe()"
   ]
  },
  {
   "cell_type": "markdown",
   "id": "e3c2f4c8a66a566b",
   "metadata": {
    "collapsed": false
   },
   "source": [
    "### 4. Привести данные к диапазону (-1,1) используя MaxAbsScaler.\n",
    "* MaxAbsScaler is similar to MinMaxScaler except that the values are mapped across several ranges depending on whether negative OR positive values are present. If only positive values are present, the range is [0, 1]. Поэтому скелиться к [0,1]\n"
   ]
  },
  {
   "cell_type": "code",
   "execution_count": 8,
   "id": "43b7fb8e153a1ca2",
   "metadata": {
    "ExecuteTime": {
     "end_time": "2024-04-12T06:24:29.019663Z",
     "start_time": "2024-04-12T06:24:28.911740Z"
    },
    "collapsed": false
   },
   "outputs": [
    {
     "data": {
      "text/html": [
       "<div>\n",
       "<style scoped>\n",
       "    .dataframe tbody tr th:only-of-type {\n",
       "        vertical-align: middle;\n",
       "    }\n",
       "\n",
       "    .dataframe tbody tr th {\n",
       "        vertical-align: top;\n",
       "    }\n",
       "\n",
       "    .dataframe thead th {\n",
       "        text-align: right;\n",
       "    }\n",
       "</style>\n",
       "<table border=\"1\" class=\"dataframe\">\n",
       "  <thead>\n",
       "    <tr style=\"text-align: right;\">\n",
       "      <th></th>\n",
       "      <th>id</th>\n",
       "      <th>age</th>\n",
       "      <th>income</th>\n",
       "      <th>spending_rating</th>\n",
       "    </tr>\n",
       "  </thead>\n",
       "  <tbody>\n",
       "    <tr>\n",
       "      <th>count</th>\n",
       "      <td>198.000000</td>\n",
       "      <td>198.000000</td>\n",
       "      <td>198.000000</td>\n",
       "      <td>198.000000</td>\n",
       "    </tr>\n",
       "    <tr>\n",
       "      <th>mean</th>\n",
       "      <td>0.502121</td>\n",
       "      <td>0.553680</td>\n",
       "      <td>0.444481</td>\n",
       "      <td>0.503163</td>\n",
       "    </tr>\n",
       "    <tr>\n",
       "      <th>std</th>\n",
       "      <td>0.287438</td>\n",
       "      <td>0.198702</td>\n",
       "      <td>0.186688</td>\n",
       "      <td>0.259040</td>\n",
       "    </tr>\n",
       "    <tr>\n",
       "      <th>min</th>\n",
       "      <td>0.005000</td>\n",
       "      <td>0.257143</td>\n",
       "      <td>0.109489</td>\n",
       "      <td>0.010101</td>\n",
       "    </tr>\n",
       "    <tr>\n",
       "      <th>25%</th>\n",
       "      <td>0.256250</td>\n",
       "      <td>0.403571</td>\n",
       "      <td>0.313869</td>\n",
       "      <td>0.345960</td>\n",
       "    </tr>\n",
       "    <tr>\n",
       "      <th>50%</th>\n",
       "      <td>0.502500</td>\n",
       "      <td>0.514286</td>\n",
       "      <td>0.452555</td>\n",
       "      <td>0.505051</td>\n",
       "    </tr>\n",
       "    <tr>\n",
       "      <th>75%</th>\n",
       "      <td>0.748750</td>\n",
       "      <td>0.696429</td>\n",
       "      <td>0.569343</td>\n",
       "      <td>0.727273</td>\n",
       "    </tr>\n",
       "    <tr>\n",
       "      <th>max</th>\n",
       "      <td>1.000000</td>\n",
       "      <td>1.000000</td>\n",
       "      <td>1.000000</td>\n",
       "      <td>1.000000</td>\n",
       "    </tr>\n",
       "  </tbody>\n",
       "</table>\n",
       "</div>"
      ],
      "text/plain": [
       "               id         age      income  spending_rating\n",
       "count  198.000000  198.000000  198.000000       198.000000\n",
       "mean     0.502121    0.553680    0.444481         0.503163\n",
       "std      0.287438    0.198702    0.186688         0.259040\n",
       "min      0.005000    0.257143    0.109489         0.010101\n",
       "25%      0.256250    0.403571    0.313869         0.345960\n",
       "50%      0.502500    0.514286    0.452555         0.505051\n",
       "75%      0.748750    0.696429    0.569343         0.727273\n",
       "max      1.000000    1.000000    1.000000         1.000000"
      ]
     },
     "execution_count": 8,
     "metadata": {},
     "output_type": "execute_result"
    }
   ],
   "source": [
    "abs_scaler = preprocessing.MaxAbsScaler()\n",
    "m = abs_scaler.fit_transform(df)\n",
    "abs_scal_df = pd.DataFrame(m, columns=df.columns)\n",
    "abs_scal_df.describe()"
   ]
  },
  {
   "cell_type": "markdown",
   "id": "7d0824ab44aaec34",
   "metadata": {
    "collapsed": false
   },
   "source": [
    "### 5. Привести данные к диапазону (25, 75) используя RobustScaler.\n",
    "* IQR определяется как разница между 75-м и 25-м перцентилями данных. Это означает, что IQR содержит в себе центральные 50% данных. данные масштабируются путем деления на IQR каждого признака. это делает данные более устойчивыми к наличию выбросов, предоставляя масштабированные данные, которые лучше соответствуют реальным свойствам данных в случае их асимметрии или наличия аномальных значений."
   ]
  },
  {
   "cell_type": "code",
   "execution_count": 9,
   "id": "7ad878ccc4e3ffd4",
   "metadata": {
    "ExecuteTime": {
     "end_time": "2024-04-12T06:24:29.139354Z",
     "start_time": "2024-04-12T06:24:29.026686Z"
    },
    "collapsed": false
   },
   "outputs": [
    {
     "data": {
      "text/html": [
       "<div>\n",
       "<style scoped>\n",
       "    .dataframe tbody tr th:only-of-type {\n",
       "        vertical-align: middle;\n",
       "    }\n",
       "\n",
       "    .dataframe tbody tr th {\n",
       "        vertical-align: top;\n",
       "    }\n",
       "\n",
       "    .dataframe thead th {\n",
       "        text-align: right;\n",
       "    }\n",
       "</style>\n",
       "<table border=\"1\" class=\"dataframe\">\n",
       "  <thead>\n",
       "    <tr style=\"text-align: right;\">\n",
       "      <th></th>\n",
       "      <th>id</th>\n",
       "      <th>age</th>\n",
       "      <th>income</th>\n",
       "      <th>spending_rating</th>\n",
       "    </tr>\n",
       "  </thead>\n",
       "  <tbody>\n",
       "    <tr>\n",
       "      <th>count</th>\n",
       "      <td>198.000000</td>\n",
       "      <td>198.000000</td>\n",
       "      <td>198.000000</td>\n",
       "      <td>198.000000</td>\n",
       "    </tr>\n",
       "    <tr>\n",
       "      <th>mean</th>\n",
       "      <td>-0.000769</td>\n",
       "      <td>0.134516</td>\n",
       "      <td>-0.031602</td>\n",
       "      <td>-0.004950</td>\n",
       "    </tr>\n",
       "    <tr>\n",
       "      <th>std</th>\n",
       "      <td>0.583630</td>\n",
       "      <td>0.678494</td>\n",
       "      <td>0.730751</td>\n",
       "      <td>0.679337</td>\n",
       "    </tr>\n",
       "    <tr>\n",
       "      <th>min</th>\n",
       "      <td>-1.010152</td>\n",
       "      <td>-0.878049</td>\n",
       "      <td>-1.342857</td>\n",
       "      <td>-1.298013</td>\n",
       "    </tr>\n",
       "    <tr>\n",
       "      <th>25%</th>\n",
       "      <td>-0.500000</td>\n",
       "      <td>-0.378049</td>\n",
       "      <td>-0.542857</td>\n",
       "      <td>-0.417219</td>\n",
       "    </tr>\n",
       "    <tr>\n",
       "      <th>50%</th>\n",
       "      <td>0.000000</td>\n",
       "      <td>0.000000</td>\n",
       "      <td>0.000000</td>\n",
       "      <td>0.000000</td>\n",
       "    </tr>\n",
       "    <tr>\n",
       "      <th>75%</th>\n",
       "      <td>0.500000</td>\n",
       "      <td>0.621951</td>\n",
       "      <td>0.457143</td>\n",
       "      <td>0.582781</td>\n",
       "    </tr>\n",
       "    <tr>\n",
       "      <th>max</th>\n",
       "      <td>1.010152</td>\n",
       "      <td>1.658537</td>\n",
       "      <td>2.142857</td>\n",
       "      <td>1.298013</td>\n",
       "    </tr>\n",
       "  </tbody>\n",
       "</table>\n",
       "</div>"
      ],
      "text/plain": [
       "               id         age      income  spending_rating\n",
       "count  198.000000  198.000000  198.000000       198.000000\n",
       "mean    -0.000769    0.134516   -0.031602        -0.004950\n",
       "std      0.583630    0.678494    0.730751         0.679337\n",
       "min     -1.010152   -0.878049   -1.342857        -1.298013\n",
       "25%     -0.500000   -0.378049   -0.542857        -0.417219\n",
       "50%      0.000000    0.000000    0.000000         0.000000\n",
       "75%      0.500000    0.621951    0.457143         0.582781\n",
       "max      1.010152    1.658537    2.142857         1.298013"
      ]
     },
     "execution_count": 9,
     "metadata": {},
     "output_type": "execute_result"
    }
   ],
   "source": [
    "rob_scaler = preprocessing.RobustScaler(with_scaling=True)\n",
    "r = rob_scaler.fit_transform(df)\n",
    "rob_scal_df = pd.DataFrame(r, columns=df.columns)\n",
    "rob_scal_df.describe()"
   ]
  },
  {
   "cell_type": "markdown",
   "id": "6dce7bd3d61f8523",
   "metadata": {
    "collapsed": false
   },
   "source": [
    "### 6. Привести данные к равномерному распределению используя QuantileTransformer.\n",
    "\n",
    "* \n"
   ]
  },
  {
   "cell_type": "code",
   "execution_count": 10,
   "id": "4666070e794825a9",
   "metadata": {
    "ExecuteTime": {
     "end_time": "2024-04-12T06:24:29.243142Z",
     "start_time": "2024-04-12T06:24:29.148342Z"
    },
    "collapsed": false
   },
   "outputs": [
    {
     "name": "stderr",
     "output_type": "stream",
     "text": [
      "D:\\.dev\\Python\\Lib\\site-packages\\sklearn\\preprocessing\\_data.py:2663: UserWarning: n_quantiles (1000) is greater than the total number of samples (198). n_quantiles is set to n_samples.\n",
      "  warnings.warn(\n"
     ]
    },
    {
     "data": {
      "text/html": [
       "<div>\n",
       "<style scoped>\n",
       "    .dataframe tbody tr th:only-of-type {\n",
       "        vertical-align: middle;\n",
       "    }\n",
       "\n",
       "    .dataframe tbody tr th {\n",
       "        vertical-align: top;\n",
       "    }\n",
       "\n",
       "    .dataframe thead th {\n",
       "        text-align: right;\n",
       "    }\n",
       "</style>\n",
       "<table border=\"1\" class=\"dataframe\">\n",
       "  <thead>\n",
       "    <tr style=\"text-align: right;\">\n",
       "      <th></th>\n",
       "      <th>id</th>\n",
       "      <th>age</th>\n",
       "      <th>income</th>\n",
       "      <th>spending_rating</th>\n",
       "    </tr>\n",
       "  </thead>\n",
       "  <tbody>\n",
       "    <tr>\n",
       "      <th>count</th>\n",
       "      <td>198.000000</td>\n",
       "      <td>198.000000</td>\n",
       "      <td>198.000000</td>\n",
       "      <td>198.000000</td>\n",
       "    </tr>\n",
       "    <tr>\n",
       "      <th>mean</th>\n",
       "      <td>0.500000</td>\n",
       "      <td>0.500743</td>\n",
       "      <td>0.501077</td>\n",
       "      <td>0.500923</td>\n",
       "    </tr>\n",
       "    <tr>\n",
       "      <th>std</th>\n",
       "      <td>0.290872</td>\n",
       "      <td>0.291216</td>\n",
       "      <td>0.290942</td>\n",
       "      <td>0.290748</td>\n",
       "    </tr>\n",
       "    <tr>\n",
       "      <th>min</th>\n",
       "      <td>0.000000</td>\n",
       "      <td>0.000000</td>\n",
       "      <td>0.000000</td>\n",
       "      <td>0.000000</td>\n",
       "    </tr>\n",
       "    <tr>\n",
       "      <th>25%</th>\n",
       "      <td>0.250000</td>\n",
       "      <td>0.248731</td>\n",
       "      <td>0.258883</td>\n",
       "      <td>0.252538</td>\n",
       "    </tr>\n",
       "    <tr>\n",
       "      <th>50%</th>\n",
       "      <td>0.500000</td>\n",
       "      <td>0.505076</td>\n",
       "      <td>0.505076</td>\n",
       "      <td>0.510152</td>\n",
       "    </tr>\n",
       "    <tr>\n",
       "      <th>75%</th>\n",
       "      <td>0.750000</td>\n",
       "      <td>0.760787</td>\n",
       "      <td>0.776650</td>\n",
       "      <td>0.751269</td>\n",
       "    </tr>\n",
       "    <tr>\n",
       "      <th>max</th>\n",
       "      <td>1.000000</td>\n",
       "      <td>1.000000</td>\n",
       "      <td>1.000000</td>\n",
       "      <td>1.000000</td>\n",
       "    </tr>\n",
       "  </tbody>\n",
       "</table>\n",
       "</div>"
      ],
      "text/plain": [
       "               id         age      income  spending_rating\n",
       "count  198.000000  198.000000  198.000000       198.000000\n",
       "mean     0.500000    0.500743    0.501077         0.500923\n",
       "std      0.290872    0.291216    0.290942         0.290748\n",
       "min      0.000000    0.000000    0.000000         0.000000\n",
       "25%      0.250000    0.248731    0.258883         0.252538\n",
       "50%      0.500000    0.505076    0.505076         0.510152\n",
       "75%      0.750000    0.760787    0.776650         0.751269\n",
       "max      1.000000    1.000000    1.000000         1.000000"
      ]
     },
     "execution_count": 10,
     "metadata": {},
     "output_type": "execute_result"
    }
   ],
   "source": [
    "un = preprocessing.QuantileTransformer()\n",
    "u = un.fit_transform(df)\n",
    "rob_scal_df = pd.DataFrame(u, columns=df.columns)\n",
    "rob_scal_df.describe()"
   ]
  }
 ],
 "metadata": {
  "kernelspec": {
   "display_name": "Python 3 (ipykernel)",
   "language": "python",
   "name": "python3"
  },
  "language_info": {
   "codemirror_mode": {
    "name": "ipython",
    "version": 3
   },
   "file_extension": ".py",
   "mimetype": "text/x-python",
   "name": "python",
   "nbconvert_exporter": "python",
   "pygments_lexer": "ipython3",
   "version": "3.11.1"
  }
 },
 "nbformat": 4,
 "nbformat_minor": 5
}
