{
 "cells": [
  {
   "cell_type": "code",
   "execution_count": 55,
   "id": "initial_id",
   "metadata": {
    "ExecuteTime": {
     "end_time": "2024-04-25T22:00:22.699160Z",
     "start_time": "2024-04-25T22:00:22.674849Z"
    },
    "collapsed": true
   },
   "outputs": [
    {
     "name": "stdout",
     "output_type": "stream",
     "text": [
      "     номер     пол  возраст  доход  рейтинг трат\n",
      "0      1.0    Male     19.0   15.0          39.0\n",
      "1      2.0    Male     21.0   15.0          81.0\n",
      "2      3.0  Female     20.0   16.0           6.0\n",
      "3      4.0  Female     23.0   16.0          77.0\n",
      "4      5.0  Female     31.0   17.0          40.0\n",
      "..     ...     ...      ...    ...           ...\n",
      "195  195.0  Female     47.0  120.0          16.0\n",
      "196  197.0  Female     45.0  126.0          28.0\n",
      "197  198.0    Male     32.0  126.0          74.0\n",
      "198  199.0    Male     32.0  137.0          18.0\n",
      "199  200.0    Male     30.0  137.0          83.0\n",
      "\n",
      "[200 rows x 5 columns]\n"
     ]
    }
   ],
   "source": [
    "import pandas as pd\n",
    "import numpy as np\n",
    "df = pd.read_csv('lab2.csv',encoding='cp1251')\n",
    "print(df)"
   ]
  },
  {
   "cell_type": "code",
   "execution_count": 56,
   "id": "2159fdcf270b6f79",
   "metadata": {
    "ExecuteTime": {
     "end_time": "2024-04-25T22:00:23.140692Z",
     "start_time": "2024-04-25T22:00:23.120043Z"
    },
    "collapsed": false
   },
   "outputs": [
    {
     "name": "stdout",
     "output_type": "stream",
     "text": [
      "<class 'pandas.core.frame.DataFrame'>\n",
      "RangeIndex: 200 entries, 0 to 199\n",
      "Data columns (total 5 columns):\n",
      " #   Column        Non-Null Count  Dtype  \n",
      "---  ------        --------------  -----  \n",
      " 0   номер         199 non-null    float64\n",
      " 1   пол           199 non-null    object \n",
      " 2   возраст       197 non-null    float64\n",
      " 3   доход         197 non-null    float64\n",
      " 4   рейтинг трат  199 non-null    float64\n",
      "dtypes: float64(4), object(1)\n",
      "memory usage: 7.9+ KB\n",
      "None\n"
     ]
    }
   ],
   "source": [
    "print(df.info())"
   ]
  },
  {
   "cell_type": "code",
   "execution_count": 57,
   "id": "a234e2d853162bfb",
   "metadata": {
    "ExecuteTime": {
     "end_time": "2024-04-25T22:00:23.209548Z",
     "start_time": "2024-04-25T22:00:23.183714Z"
    },
    "collapsed": false
   },
   "outputs": [
    {
     "name": "stdout",
     "output_type": "stream",
     "text": [
      "<class 'pandas.core.frame.DataFrame'>\n",
      "RangeIndex: 200 entries, 0 to 199\n",
      "Data columns (total 5 columns):\n",
      " #   Column           Non-Null Count  Dtype  \n",
      "---  ------           --------------  -----  \n",
      " 0   id               199 non-null    float64\n",
      " 1   gender           199 non-null    object \n",
      " 2   age              197 non-null    float64\n",
      " 3   income           197 non-null    float64\n",
      " 4   spending_rating  199 non-null    float64\n",
      "dtypes: float64(4), object(1)\n",
      "memory usage: 7.9+ KB\n"
     ]
    }
   ],
   "source": [
    "col_name = ['id', 'gender', 'age', 'income','spending_rating' ]\n",
    "df = df.set_axis(col_name, axis = 'columns')\n",
    "df.to_csv('processed_1.csv', index=False, header=True)\n",
    "df.info()"
   ]
  },
  {
   "cell_type": "code",
   "execution_count": 58,
   "id": "5d95b77a352439cf",
   "metadata": {
    "ExecuteTime": {
     "end_time": "2024-04-25T22:00:23.320667Z",
     "start_time": "2024-04-25T22:00:23.310569Z"
    },
    "collapsed": false
   },
   "outputs": [
    {
     "name": "stdout",
     "output_type": "stream",
     "text": [
      "    id gender  age  income  spending_rating\n",
      "19 NaN    NaN  NaN     NaN              NaN\n"
     ]
    }
   ],
   "source": [
    "print(df[df.id.isnull()])"
   ]
  },
  {
   "cell_type": "code",
   "execution_count": 59,
   "id": "edbdb9f06fc5a9a",
   "metadata": {
    "ExecuteTime": {
     "end_time": "2024-04-25T22:00:23.415786Z",
     "start_time": "2024-04-25T22:00:23.404685Z"
    },
    "collapsed": false
   },
   "outputs": [],
   "source": [
    "df.dropna(subset = ['id'], inplace=True)"
   ]
  },
  {
   "cell_type": "code",
   "execution_count": 60,
   "id": "3a5da0648b730bdc",
   "metadata": {
    "ExecuteTime": {
     "end_time": "2024-04-25T22:00:23.500048Z",
     "start_time": "2024-04-25T22:00:23.486808Z"
    },
    "collapsed": false
   },
   "outputs": [
    {
     "name": "stdout",
     "output_type": "stream",
     "text": [
      "      id  gender  age  income  spending_rating\n",
      "7    8.0  Female  NaN    18.0             94.0\n",
      "14  15.0    Male  NaN    20.0             13.0\n"
     ]
    }
   ],
   "source": [
    "print(df[df['age'].isnull() == True])"
   ]
  },
  {
   "cell_type": "code",
   "execution_count": 61,
   "id": "687c08cb",
   "metadata": {
    "ExecuteTime": {
     "end_time": "2024-04-25T22:00:23.585464Z",
     "start_time": "2024-04-25T22:00:23.570066Z"
    }
   },
   "outputs": [
    {
     "data": {
      "text/plain": [
       "[39, 39]"
      ]
     },
     "execution_count": 61,
     "metadata": {},
     "output_type": "execute_result"
    }
   ],
   "source": [
    "avg_ages_by_g = [round(df[(df.gender == x) & (df.age.isna() == False)].age.mean()) for x in df.gender.unique()]\n",
    "avg_ages_by_g"
   ]
  },
  {
   "cell_type": "code",
   "execution_count": 62,
   "id": "e55a1e862bf33de3",
   "metadata": {
    "ExecuteTime": {
     "end_time": "2024-04-25T22:00:23.643416Z",
     "start_time": "2024-04-25T22:00:23.626491Z"
    }
   },
   "outputs": [
    {
     "data": {
      "text/plain": [
       "array(['Male', 'Female'], dtype=object)"
      ]
     },
     "execution_count": 62,
     "metadata": {},
     "output_type": "execute_result"
    }
   ],
   "source": [
    "df.gender.unique()"
   ]
  },
  {
   "cell_type": "code",
   "execution_count": 63,
   "id": "3f349045",
   "metadata": {
    "ExecuteTime": {
     "end_time": "2024-04-25T22:00:23.776050Z",
     "start_time": "2024-04-25T22:00:23.749350Z"
    }
   },
   "outputs": [
    {
     "data": {
      "text/html": [
       "<div>\n",
       "<style scoped>\n",
       "    .dataframe tbody tr th:only-of-type {\n",
       "        vertical-align: middle;\n",
       "    }\n",
       "\n",
       "    .dataframe tbody tr th {\n",
       "        vertical-align: top;\n",
       "    }\n",
       "\n",
       "    .dataframe thead th {\n",
       "        text-align: right;\n",
       "    }\n",
       "</style>\n",
       "<table border=\"1\" class=\"dataframe\">\n",
       "  <thead>\n",
       "    <tr style=\"text-align: right;\">\n",
       "      <th></th>\n",
       "      <th>id</th>\n",
       "      <th>gender</th>\n",
       "      <th>age</th>\n",
       "      <th>income</th>\n",
       "      <th>spending_rating</th>\n",
       "    </tr>\n",
       "  </thead>\n",
       "  <tbody>\n",
       "    <tr>\n",
       "      <th>7</th>\n",
       "      <td>8.0</td>\n",
       "      <td>Female</td>\n",
       "      <td>NaN</td>\n",
       "      <td>18.0</td>\n",
       "      <td>94.0</td>\n",
       "    </tr>\n",
       "    <tr>\n",
       "      <th>14</th>\n",
       "      <td>15.0</td>\n",
       "      <td>Male</td>\n",
       "      <td>NaN</td>\n",
       "      <td>20.0</td>\n",
       "      <td>13.0</td>\n",
       "    </tr>\n",
       "  </tbody>\n",
       "</table>\n",
       "</div>"
      ],
      "text/plain": [
       "      id  gender  age  income  spending_rating\n",
       "7    8.0  Female  NaN    18.0             94.0\n",
       "14  15.0    Male  NaN    20.0             13.0"
      ]
     },
     "execution_count": 63,
     "metadata": {},
     "output_type": "execute_result"
    }
   ],
   "source": [
    "df.loc[df.id.isin([8.0, 15.0])]"
   ]
  },
  {
   "cell_type": "code",
   "execution_count": 64,
   "id": "5ea4ffa14af10abb",
   "metadata": {
    "ExecuteTime": {
     "end_time": "2024-04-25T22:00:23.824522Z",
     "start_time": "2024-04-25T22:00:23.814070Z"
    },
    "collapsed": false
   },
   "outputs": [],
   "source": [
    "df.loc[(df.gender == 'Male') & (df.age.isna()), 'age'] = avg_ages_by_g[0]\n",
    "df.loc[(df.gender == 'Female') & (df.age.isna()), 'age'] = avg_ages_by_g[1]"
   ]
  },
  {
   "cell_type": "code",
   "execution_count": 65,
   "id": "ac17eb3515e0bd10",
   "metadata": {
    "ExecuteTime": {
     "end_time": "2024-04-25T22:00:23.969929Z",
     "start_time": "2024-04-25T22:00:23.948548Z"
    },
    "collapsed": false
   },
   "outputs": [
    {
     "data": {
      "text/html": [
       "<div>\n",
       "<style scoped>\n",
       "    .dataframe tbody tr th:only-of-type {\n",
       "        vertical-align: middle;\n",
       "    }\n",
       "\n",
       "    .dataframe tbody tr th {\n",
       "        vertical-align: top;\n",
       "    }\n",
       "\n",
       "    .dataframe thead th {\n",
       "        text-align: right;\n",
       "    }\n",
       "</style>\n",
       "<table border=\"1\" class=\"dataframe\">\n",
       "  <thead>\n",
       "    <tr style=\"text-align: right;\">\n",
       "      <th></th>\n",
       "      <th>id</th>\n",
       "      <th>gender</th>\n",
       "      <th>age</th>\n",
       "      <th>income</th>\n",
       "      <th>spending_rating</th>\n",
       "    </tr>\n",
       "  </thead>\n",
       "  <tbody>\n",
       "    <tr>\n",
       "      <th>7</th>\n",
       "      <td>8.0</td>\n",
       "      <td>Female</td>\n",
       "      <td>39.0</td>\n",
       "      <td>18.0</td>\n",
       "      <td>94.0</td>\n",
       "    </tr>\n",
       "    <tr>\n",
       "      <th>14</th>\n",
       "      <td>15.0</td>\n",
       "      <td>Male</td>\n",
       "      <td>39.0</td>\n",
       "      <td>20.0</td>\n",
       "      <td>13.0</td>\n",
       "    </tr>\n",
       "  </tbody>\n",
       "</table>\n",
       "</div>"
      ],
      "text/plain": [
       "      id  gender   age  income  spending_rating\n",
       "7    8.0  Female  39.0    18.0             94.0\n",
       "14  15.0    Male  39.0    20.0             13.0"
      ]
     },
     "execution_count": 65,
     "metadata": {},
     "output_type": "execute_result"
    }
   ],
   "source": [
    "df.loc[df.id.isin([8.0, 15.0])]"
   ]
  },
  {
   "cell_type": "code",
   "execution_count": 66,
   "id": "47d4e2e0",
   "metadata": {
    "ExecuteTime": {
     "end_time": "2024-04-25T22:00:24.057489Z",
     "start_time": "2024-04-25T22:00:24.041946Z"
    }
   },
   "outputs": [
    {
     "name": "stdout",
     "output_type": "stream",
     "text": [
      "        id  gender   age  income  spending_rating\n",
      "195  195.0  Female  47.0   120.0             16.0\n",
      "1\n"
     ]
    }
   ],
   "source": [
    "print(df[df.duplicated() == True])\n",
    "print(df.duplicated().sum())"
   ]
  },
  {
   "cell_type": "code",
   "execution_count": 67,
   "id": "e08af8b0",
   "metadata": {
    "ExecuteTime": {
     "end_time": "2024-04-25T22:00:24.139975Z",
     "start_time": "2024-04-25T22:00:24.128509Z"
    }
   },
   "outputs": [],
   "source": [
    "df = df.drop_duplicates().reset_index(drop=True)"
   ]
  },
  {
   "cell_type": "code",
   "execution_count": 68,
   "id": "a9790ac8",
   "metadata": {
    "ExecuteTime": {
     "end_time": "2024-04-25T22:00:24.320814Z",
     "start_time": "2024-04-25T22:00:24.304993Z"
    }
   },
   "outputs": [
    {
     "name": "stdout",
     "output_type": "stream",
     "text": [
      "<class 'pandas.core.frame.DataFrame'>\n",
      "RangeIndex: 198 entries, 0 to 197\n",
      "Data columns (total 5 columns):\n",
      " #   Column           Non-Null Count  Dtype  \n",
      "---  ------           --------------  -----  \n",
      " 0   id               198 non-null    float64\n",
      " 1   gender           198 non-null    object \n",
      " 2   age              198 non-null    float64\n",
      " 3   income           196 non-null    float64\n",
      " 4   spending_rating  198 non-null    float64\n",
      "dtypes: float64(4), object(1)\n",
      "memory usage: 7.9+ KB\n"
     ]
    }
   ],
   "source": [
    "df.info()"
   ]
  },
  {
   "cell_type": "code",
   "execution_count": 69,
   "id": "3a5e4652fb53c237",
   "metadata": {
    "ExecuteTime": {
     "end_time": "2024-04-25T22:09:05.052719Z",
     "start_time": "2024-04-25T22:09:05.017717Z"
    },
    "collapsed": false
   },
   "outputs": [],
   "source": [
    "avg_income_by_g = [round(df[(df.gender == x) & (df.income.isna() == False)].income.mean()) for x in df.gender.unique()]\n",
    "df.loc[(df.gender == 'Male') & (df.income.isna()), 'income'] = avg_income_by_g[0]\n",
    "df.loc[(df.gender == 'Female') & (df.income.isna()), 'income'] = avg_income_by_g[1]"
   ]
  },
  {
   "cell_type": "code",
   "execution_count": 70,
   "id": "44a903abfde096e6",
   "metadata": {
    "ExecuteTime": {
     "end_time": "2024-04-25T22:09:06.454076Z",
     "start_time": "2024-04-25T22:09:06.424370Z"
    },
    "collapsed": false
   },
   "outputs": [
    {
     "name": "stdout",
     "output_type": "stream",
     "text": [
      "0\n",
      "<class 'pandas.core.frame.DataFrame'>\n",
      "RangeIndex: 198 entries, 0 to 197\n",
      "Data columns (total 5 columns):\n",
      " #   Column           Non-Null Count  Dtype  \n",
      "---  ------           --------------  -----  \n",
      " 0   id               198 non-null    float64\n",
      " 1   gender           198 non-null    object \n",
      " 2   age              198 non-null    float64\n",
      " 3   income           198 non-null    float64\n",
      " 4   spending_rating  198 non-null    float64\n",
      "dtypes: float64(4), object(1)\n",
      "memory usage: 7.9+ KB\n"
     ]
    }
   ],
   "source": [
    "df.to_csv(\"proced1.csv\", index=False, header=True)\n",
    "df = pd.read_csv(\"proced1.csv\", encoding='cp1251')\n",
    "print(df.duplicated().sum())\n",
    "df.info()"
   ]
  },
  {
   "cell_type": "markdown",
   "id": "6ea0288f",
   "metadata": {},
   "source": [
    "### Задание"
   ]
  },
  {
   "cell_type": "markdown",
   "id": "b76ffc3d",
   "metadata": {},
   "source": [
    "* 1.Найти датасет содержавший поля с разными типами данных; \n",
    "* 2.Загрузить датасет в Pandas DataFrame и посмотреть сводную информацию о датасете;"
   ]
  },
  {
   "cell_type": "code",
   "execution_count": 71,
   "id": "3c2bc915",
   "metadata": {
    "ExecuteTime": {
     "end_time": "2024-04-25T23:16:05.229413Z",
     "start_time": "2024-04-25T23:16:05.152905Z"
    }
   },
   "outputs": [
    {
     "name": "stdout",
     "output_type": "stream",
     "text": [
      "<class 'pandas.core.frame.DataFrame'>\n",
      "RangeIndex: 1000 entries, 0 to 999\n",
      "Data columns (total 8 columns):\n",
      " #   Column                       Non-Null Count  Dtype \n",
      "---  ------                       --------------  ----- \n",
      " 0   gender                       1000 non-null   object\n",
      " 1   race_ethnicity               1000 non-null   object\n",
      " 2   parental_level_of_education  1000 non-null   object\n",
      " 3   lunch                        1000 non-null   object\n",
      " 4   test_preparation_course      1000 non-null   object\n",
      " 5   math_score                   1000 non-null   int64 \n",
      " 6   reading_score                1000 non-null   int64 \n",
      " 7   writing_score                1000 non-null   int64 \n",
      "dtypes: int64(3), object(5)\n",
      "memory usage: 62.6+ KB\n"
     ]
    }
   ],
   "source": [
    "study_perf_ds = pd.read_csv(\"study_performance.csv\", sep=\",\")\n",
    "\n",
    "study_perf_ds.info()"
   ]
  },
  {
   "cell_type": "markdown",
   "id": "d67fe632",
   "metadata": {},
   "source": [
    "* 3. Переименовать одну или все колонки; "
   ]
  },
  {
   "cell_type": "code",
   "execution_count": 72,
   "id": "ffb79215",
   "metadata": {
    "ExecuteTime": {
     "end_time": "2024-04-25T23:16:05.333094Z",
     "start_time": "2024-04-25T23:16:05.313411Z"
    }
   },
   "outputs": [
    {
     "name": "stdout",
     "output_type": "stream",
     "text": [
      "['gender', 'race_ethnicity', 'parental_level_of_education', 'lunch', 'test_preparation_course', 'math_score', 'reading_score', 'writing_score']\n"
     ]
    }
   ],
   "source": [
    "st_perf_columns = [x.replace(\" \", \"_\") for x in study_perf_ds.columns]\n",
    "print(st_perf_columns)\n",
    "\n",
    "study_perf_ds = study_perf_ds.set_axis(st_perf_columns, axis = 'columns')"
   ]
  },
  {
   "cell_type": "code",
   "execution_count": 73,
   "id": "93dcf097",
   "metadata": {
    "ExecuteTime": {
     "end_time": "2024-04-25T23:16:05.384084Z",
     "start_time": "2024-04-25T23:16:05.361082Z"
    }
   },
   "outputs": [
    {
     "name": "stdout",
     "output_type": "stream",
     "text": [
      "<class 'pandas.core.frame.DataFrame'>\n",
      "RangeIndex: 1000 entries, 0 to 999\n",
      "Data columns (total 8 columns):\n",
      " #   Column                       Non-Null Count  Dtype \n",
      "---  ------                       --------------  ----- \n",
      " 0   gender                       1000 non-null   object\n",
      " 1   race_ethnicity               1000 non-null   object\n",
      " 2   parental_level_of_education  1000 non-null   object\n",
      " 3   lunch                        1000 non-null   object\n",
      " 4   test_preparation_course      1000 non-null   object\n",
      " 5   math_score                   1000 non-null   int64 \n",
      " 6   reading_score                1000 non-null   int64 \n",
      " 7   writing_score                1000 non-null   int64 \n",
      "dtypes: int64(3), object(5)\n",
      "memory usage: 62.6+ KB\n"
     ]
    }
   ],
   "source": [
    "study_perf_ds.info()"
   ]
  },
  {
   "cell_type": "code",
   "execution_count": 75,
   "id": "1c7ca02f",
   "metadata": {
    "ExecuteTime": {
     "end_time": "2024-04-25T23:16:05.513526Z",
     "start_time": "2024-04-25T23:16:05.459081Z"
    }
   },
   "outputs": [
    {
     "data": {
      "text/plain": [
       "count    1000.00000\n",
       "mean       66.08900\n",
       "std        15.16308\n",
       "min         0.00000\n",
       "25%        57.00000\n",
       "50%        66.00000\n",
       "75%        77.00000\n",
       "max       100.00000\n",
       "Name: math_score, dtype: float64"
      ]
     },
     "execution_count": 75,
     "metadata": {},
     "output_type": "execute_result"
    }
   ],
   "source": [
    "study_perf_ds.math_score.describe()"
   ]
  },
  {
   "cell_type": "markdown",
   "id": "00b3553a",
   "metadata": {},
   "source": [
    "* 4. Определить пустые строки и удалить;"
   ]
  },
  {
   "cell_type": "code",
   "execution_count": 76,
   "id": "4915ee20",
   "metadata": {
    "ExecuteTime": {
     "end_time": "2024-04-25T23:16:05.588552Z",
     "start_time": "2024-04-25T23:16:05.520538Z"
    }
   },
   "outputs": [
    {
     "data": {
      "text/html": [
       "<div>\n",
       "<style scoped>\n",
       "    .dataframe tbody tr th:only-of-type {\n",
       "        vertical-align: middle;\n",
       "    }\n",
       "\n",
       "    .dataframe tbody tr th {\n",
       "        vertical-align: top;\n",
       "    }\n",
       "\n",
       "    .dataframe thead th {\n",
       "        text-align: right;\n",
       "    }\n",
       "</style>\n",
       "<table border=\"1\" class=\"dataframe\">\n",
       "  <thead>\n",
       "    <tr style=\"text-align: right;\">\n",
       "      <th></th>\n",
       "      <th>gender</th>\n",
       "      <th>race_ethnicity</th>\n",
       "      <th>parental_level_of_education</th>\n",
       "      <th>lunch</th>\n",
       "      <th>test_preparation_course</th>\n",
       "      <th>math_score</th>\n",
       "      <th>reading_score</th>\n",
       "      <th>writing_score</th>\n",
       "    </tr>\n",
       "  </thead>\n",
       "  <tbody>\n",
       "    <tr>\n",
       "      <th>0</th>\n",
       "      <td>female</td>\n",
       "      <td>group B</td>\n",
       "      <td>bachelor's degree</td>\n",
       "      <td>standard</td>\n",
       "      <td>none</td>\n",
       "      <td>72</td>\n",
       "      <td>72</td>\n",
       "      <td>74</td>\n",
       "    </tr>\n",
       "    <tr>\n",
       "      <th>1</th>\n",
       "      <td>female</td>\n",
       "      <td>group C</td>\n",
       "      <td>some college</td>\n",
       "      <td>standard</td>\n",
       "      <td>completed</td>\n",
       "      <td>69</td>\n",
       "      <td>90</td>\n",
       "      <td>88</td>\n",
       "    </tr>\n",
       "    <tr>\n",
       "      <th>2</th>\n",
       "      <td>female</td>\n",
       "      <td>group B</td>\n",
       "      <td>master's degree</td>\n",
       "      <td>standard</td>\n",
       "      <td>none</td>\n",
       "      <td>90</td>\n",
       "      <td>95</td>\n",
       "      <td>93</td>\n",
       "    </tr>\n",
       "    <tr>\n",
       "      <th>3</th>\n",
       "      <td>male</td>\n",
       "      <td>group A</td>\n",
       "      <td>associate's degree</td>\n",
       "      <td>free/reduced</td>\n",
       "      <td>none</td>\n",
       "      <td>47</td>\n",
       "      <td>57</td>\n",
       "      <td>44</td>\n",
       "    </tr>\n",
       "    <tr>\n",
       "      <th>4</th>\n",
       "      <td>male</td>\n",
       "      <td>group C</td>\n",
       "      <td>some college</td>\n",
       "      <td>standard</td>\n",
       "      <td>none</td>\n",
       "      <td>76</td>\n",
       "      <td>78</td>\n",
       "      <td>75</td>\n",
       "    </tr>\n",
       "    <tr>\n",
       "      <th>...</th>\n",
       "      <td>...</td>\n",
       "      <td>...</td>\n",
       "      <td>...</td>\n",
       "      <td>...</td>\n",
       "      <td>...</td>\n",
       "      <td>...</td>\n",
       "      <td>...</td>\n",
       "      <td>...</td>\n",
       "    </tr>\n",
       "    <tr>\n",
       "      <th>995</th>\n",
       "      <td>female</td>\n",
       "      <td>group E</td>\n",
       "      <td>master's degree</td>\n",
       "      <td>standard</td>\n",
       "      <td>completed</td>\n",
       "      <td>88</td>\n",
       "      <td>99</td>\n",
       "      <td>95</td>\n",
       "    </tr>\n",
       "    <tr>\n",
       "      <th>996</th>\n",
       "      <td>male</td>\n",
       "      <td>group C</td>\n",
       "      <td>high school</td>\n",
       "      <td>free/reduced</td>\n",
       "      <td>none</td>\n",
       "      <td>62</td>\n",
       "      <td>55</td>\n",
       "      <td>55</td>\n",
       "    </tr>\n",
       "    <tr>\n",
       "      <th>997</th>\n",
       "      <td>female</td>\n",
       "      <td>group C</td>\n",
       "      <td>high school</td>\n",
       "      <td>free/reduced</td>\n",
       "      <td>completed</td>\n",
       "      <td>59</td>\n",
       "      <td>71</td>\n",
       "      <td>65</td>\n",
       "    </tr>\n",
       "    <tr>\n",
       "      <th>998</th>\n",
       "      <td>female</td>\n",
       "      <td>group D</td>\n",
       "      <td>some college</td>\n",
       "      <td>standard</td>\n",
       "      <td>completed</td>\n",
       "      <td>68</td>\n",
       "      <td>78</td>\n",
       "      <td>77</td>\n",
       "    </tr>\n",
       "    <tr>\n",
       "      <th>999</th>\n",
       "      <td>female</td>\n",
       "      <td>group D</td>\n",
       "      <td>some college</td>\n",
       "      <td>free/reduced</td>\n",
       "      <td>none</td>\n",
       "      <td>77</td>\n",
       "      <td>86</td>\n",
       "      <td>86</td>\n",
       "    </tr>\n",
       "  </tbody>\n",
       "</table>\n",
       "<p>1000 rows × 8 columns</p>\n",
       "</div>"
      ],
      "text/plain": [
       "     gender race_ethnicity parental_level_of_education         lunch  \\\n",
       "0    female        group B           bachelor's degree      standard   \n",
       "1    female        group C                some college      standard   \n",
       "2    female        group B             master's degree      standard   \n",
       "3      male        group A          associate's degree  free/reduced   \n",
       "4      male        group C                some college      standard   \n",
       "..      ...            ...                         ...           ...   \n",
       "995  female        group E             master's degree      standard   \n",
       "996    male        group C                 high school  free/reduced   \n",
       "997  female        group C                 high school  free/reduced   \n",
       "998  female        group D                some college      standard   \n",
       "999  female        group D                some college  free/reduced   \n",
       "\n",
       "    test_preparation_course  math_score  reading_score  writing_score  \n",
       "0                      none          72             72             74  \n",
       "1                 completed          69             90             88  \n",
       "2                      none          90             95             93  \n",
       "3                      none          47             57             44  \n",
       "4                      none          76             78             75  \n",
       "..                      ...         ...            ...            ...  \n",
       "995               completed          88             99             95  \n",
       "996                    none          62             55             55  \n",
       "997               completed          59             71             65  \n",
       "998               completed          68             78             77  \n",
       "999                    none          77             86             86  \n",
       "\n",
       "[1000 rows x 8 columns]"
      ]
     },
     "execution_count": 76,
     "metadata": {},
     "output_type": "execute_result"
    }
   ],
   "source": [
    "study_perf_ds.dropna(how='all')"
   ]
  },
  {
   "cell_type": "markdown",
   "id": "70bcf971",
   "metadata": {},
   "source": [
    " * 5. Определить пустые ячейки, вывести на экран и заменить средним значением колонки, средним значением с учетом параметра другой колонки. "
   ]
  },
  {
   "cell_type": "code",
   "execution_count": 77,
   "id": "1750cbeb",
   "metadata": {
    "ExecuteTime": {
     "end_time": "2024-04-25T23:16:05.639491Z",
     "start_time": "2024-04-25T23:16:05.631551Z"
    }
   },
   "outputs": [
    {
     "name": "stdout",
     "output_type": "stream",
     "text": [
      "gender                         0\n",
      "race_ethnicity                 0\n",
      "parental_level_of_education    0\n",
      "lunch                          0\n",
      "test_preparation_course        0\n",
      "math_score                     0\n",
      "reading_score                  0\n",
      "writing_score                  0\n",
      "dtype: int64\n"
     ]
    }
   ],
   "source": [
    "print(study_perf_ds.isna().sum())\n",
    "# нет пропусков"
   ]
  },
  {
   "cell_type": "code",
   "execution_count": 81,
   "id": "730ab512",
   "metadata": {
    "ExecuteTime": {
     "end_time": "2024-04-25T23:16:05.723737Z",
     "start_time": "2024-04-25T23:16:05.686009Z"
    }
   },
   "outputs": [
    {
     "name": "stdout",
     "output_type": "stream",
     "text": [
      "[64, 69]\n"
     ]
    }
   ],
   "source": [
    "avg_st_perf_values = {}\n",
    "for col in st_perf_columns[5:7]:\n",
    "    avg_st_perf_values[col] = study_perf_ds[f\"{col}\"].mean()\n",
    "\n",
    "# посчитае средний мас скор по гендерам\n",
    "avg_math_by_g = [round(study_perf_ds[(study_perf_ds.gender == x) & (study_perf_ds.math_score.isna() == False)].math_score.mean()) for x in study_perf_ds.gender.unique()]\n",
    "print(avg_math_by_g)\n",
    "study_perf_ds.loc[(study_perf_ds.gender == 'Male') & (study_perf_ds.math_score.isna()), 'math_score'] = avg_math_by_g[0]\n",
    "study_perf_ds.loc[(study_perf_ds.gender == 'Female') & (study_perf_ds.math_score.isna()), 'math_score'] = avg_math_by_g[1]"
   ]
  },
  {
   "cell_type": "code",
   "execution_count": 82,
   "id": "4589bdc7",
   "metadata": {
    "ExecuteTime": {
     "end_time": "2024-04-25T23:16:05.874463Z",
     "start_time": "2024-04-25T23:16:05.836265Z"
    }
   },
   "outputs": [],
   "source": [
    "for k in avg_st_perf_values:\n",
    "\n",
    "    study_perf_ds.loc[(study_perf_ds[f\"{k}\"].isna() == True), f'{k}'] = avg_st_perf_values[k]"
   ]
  },
  {
   "cell_type": "markdown",
   "id": "046eb810",
   "metadata": {},
   "source": [
    "* 6. Найти дубликаты, вывести на экран и удалить; "
   ]
  },
  {
   "cell_type": "code",
   "execution_count": 83,
   "id": "4231126b",
   "metadata": {
    "ExecuteTime": {
     "end_time": "2024-04-25T23:16:05.986788Z",
     "start_time": "2024-04-25T23:16:05.914458Z"
    }
   },
   "outputs": [
    {
     "name": "stdout",
     "output_type": "stream",
     "text": [
      "Empty DataFrame\n",
      "Columns: [gender, race_ethnicity, parental_level_of_education, lunch, test_preparation_course, math_score, reading_score, writing_score]\n",
      "Index: []\n",
      "0\n"
     ]
    }
   ],
   "source": [
    "print(study_perf_ds[study_perf_ds.duplicated() == True])\n",
    "print(study_perf_ds.duplicated().sum())\n",
    "\n",
    "df_wines = study_perf_ds.drop_duplicates().reset_index(drop=True)"
   ]
  },
  {
   "cell_type": "code",
   "execution_count": 84,
   "id": "9c8d81cb",
   "metadata": {
    "ExecuteTime": {
     "end_time": "2024-04-25T23:16:06.157444Z",
     "start_time": "2024-04-25T23:16:06.115309Z"
    }
   },
   "outputs": [],
   "source": [
    "study_perf_ds.to_csv(\"prep_st_perf_vals.csv\", index=False, header=True)"
   ]
  }
 ],
 "metadata": {
  "kernelspec": {
   "display_name": "Python 3",
   "language": "python",
   "name": "python3"
  },
  "language_info": {
   "codemirror_mode": {
    "name": "ipython",
    "version": 3
   },
   "file_extension": ".py",
   "mimetype": "text/x-python",
   "name": "python",
   "nbconvert_exporter": "python",
   "pygments_lexer": "ipython3",
   "version": "3.9.7"
  }
 },
 "nbformat": 4,
 "nbformat_minor": 5
}
