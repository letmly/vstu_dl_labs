{
 "cells": [
  {
   "cell_type": "code",
   "execution_count": 119,
   "id": "initial_id",
   "metadata": {
    "collapsed": true,
    "ExecuteTime": {
     "end_time": "2024-04-15T22:36:30.112501Z",
     "start_time": "2024-04-15T22:36:30.087070Z"
    }
   },
   "outputs": [
    {
     "name": "stdout",
     "output_type": "stream",
     "text": [
      "     номер     пол  возраст  доход  рейтинг трат\n",
      "0      1.0    Male     19.0   15.0          39.0\n",
      "1      2.0    Male     21.0   15.0          81.0\n",
      "2      3.0  Female     20.0   16.0           6.0\n",
      "3      4.0  Female     23.0   16.0          77.0\n",
      "4      5.0  Female     31.0   17.0          40.0\n",
      "..     ...     ...      ...    ...           ...\n",
      "195  195.0  Female     47.0  120.0          16.0\n",
      "196  197.0  Female     45.0  126.0          28.0\n",
      "197  198.0    Male     32.0  126.0          74.0\n",
      "198  199.0    Male     32.0  137.0          18.0\n",
      "199  200.0    Male     30.0  137.0          83.0\n",
      "\n",
      "[200 rows x 5 columns]\n"
     ]
    }
   ],
   "source": [
    "import pandas as pd\n",
    "import numpy as np\n",
    "df = pd.read_csv('lab2.csv',encoding='cp1251')\n",
    "print(df)"
   ]
  },
  {
   "cell_type": "code",
   "outputs": [
    {
     "name": "stdout",
     "output_type": "stream",
     "text": [
      "<class 'pandas.core.frame.DataFrame'>\n",
      "RangeIndex: 200 entries, 0 to 199\n",
      "Data columns (total 5 columns):\n",
      " #   Column        Non-Null Count  Dtype  \n",
      "---  ------        --------------  -----  \n",
      " 0   номер         199 non-null    float64\n",
      " 1   пол           199 non-null    object \n",
      " 2   возраст       197 non-null    float64\n",
      " 3   доход         197 non-null    float64\n",
      " 4   рейтинг трат  199 non-null    float64\n",
      "dtypes: float64(4), object(1)\n",
      "memory usage: 7.9+ KB\n",
      "None\n"
     ]
    }
   ],
   "source": [
    "print(df.info())"
   ],
   "metadata": {
    "collapsed": false,
    "ExecuteTime": {
     "end_time": "2024-04-15T22:36:30.142446Z",
     "start_time": "2024-04-15T22:36:30.118523Z"
    }
   },
   "id": "2159fdcf270b6f79",
   "execution_count": 120
  },
  {
   "cell_type": "code",
   "outputs": [
    {
     "name": "stdout",
     "output_type": "stream",
     "text": [
      "<class 'pandas.core.frame.DataFrame'>\n",
      "RangeIndex: 200 entries, 0 to 199\n",
      "Data columns (total 5 columns):\n",
      " #   Column           Non-Null Count  Dtype  \n",
      "---  ------           --------------  -----  \n",
      " 0   id               199 non-null    float64\n",
      " 1   gender           199 non-null    object \n",
      " 2   age              197 non-null    float64\n",
      " 3   income           197 non-null    float64\n",
      " 4   spending_rating  199 non-null    float64\n",
      "dtypes: float64(4), object(1)\n",
      "memory usage: 7.9+ KB\n"
     ]
    }
   ],
   "source": [
    "col_name = ['id', 'gender', 'age', 'income','spending_rating' ]\n",
    "df = df.set_axis(col_name, axis = 'columns')\n",
    "df.to_csv('processed_1.csv', index=False, header=True)\n",
    "df.info()"
   ],
   "metadata": {
    "collapsed": false,
    "ExecuteTime": {
     "end_time": "2024-04-15T22:36:30.169555Z",
     "start_time": "2024-04-15T22:36:30.147467Z"
    }
   },
   "id": "a234e2d853162bfb",
   "execution_count": 121
  },
  {
   "cell_type": "code",
   "outputs": [
    {
     "name": "stdout",
     "output_type": "stream",
     "text": [
      "[19. 21. 20. 23. 31. 35. nan 64. 67. 58. 24. 22. 46. 54. 29. 45. 40. 60.\n",
      " 53. 18. 49. 42. 30. 36. 65. 48. 50. 27. 33. 59. 47. 51. 69. 70. 63. 43.\n",
      " 68. 32. 26. 57. 38. 55. 34. 66. 39. 25. 44. 28. 37. 56. 52. 41.]\n"
     ]
    }
   ],
   "source": [
    "print(df.age.unique())"
   ],
   "metadata": {
    "collapsed": false,
    "ExecuteTime": {
     "end_time": "2024-04-15T22:36:30.216577Z",
     "start_time": "2024-04-15T22:36:30.201576Z"
    }
   },
   "id": "2edb36705361cc10",
   "execution_count": 122
  },
  {
   "cell_type": "code",
   "outputs": [
    {
     "name": "stdout",
     "output_type": "stream",
     "text": [
      "    id gender  age  income  spending_rating\n",
      "19 NaN    NaN  NaN     NaN              NaN\n"
     ]
    }
   ],
   "source": [
    "print(df[df.id.isnull()])"
   ],
   "metadata": {
    "collapsed": false,
    "ExecuteTime": {
     "end_time": "2024-04-15T22:36:30.260507Z",
     "start_time": "2024-04-15T22:36:30.247594Z"
    }
   },
   "id": "5d95b77a352439cf",
   "execution_count": 123
  },
  {
   "cell_type": "code",
   "outputs": [],
   "source": [
    "df.dropna(subset = ['id'], inplace=True)"
   ],
   "metadata": {
    "collapsed": false,
    "ExecuteTime": {
     "end_time": "2024-04-15T22:36:30.369390Z",
     "start_time": "2024-04-15T22:36:30.359865Z"
    }
   },
   "id": "edbdb9f06fc5a9a",
   "execution_count": 124
  },
  {
   "cell_type": "code",
   "outputs": [
    {
     "name": "stdout",
     "output_type": "stream",
     "text": [
      "      id  gender  age  income  spending_rating\n",
      "7    8.0  Female  NaN    18.0             94.0\n",
      "14  15.0    Male  NaN    20.0             13.0\n"
     ]
    }
   ],
   "source": [
    "print(df[df['age'].isnull() == True])"
   ],
   "metadata": {
    "collapsed": false,
    "ExecuteTime": {
     "end_time": "2024-04-15T22:36:30.409729Z",
     "start_time": "2024-04-15T22:36:30.395408Z"
    }
   },
   "id": "3a5da0648b730bdc",
   "execution_count": 125
  },
  {
   "cell_type": "code",
   "outputs": [
    {
     "name": "stderr",
     "output_type": "stream",
     "text": [
      "C:\\Users\\Владелец\\AppData\\Local\\Temp\\ipykernel_4788\\1445214615.py:2: SettingWithCopyWarning: \n",
      "A value is trying to be set on a copy of a slice from a DataFrame\n",
      "\n",
      "See the caveats in the documentation: https://pandas.pydata.org/pandas-docs/stable/user_guide/indexing.html#returning-a-view-versus-a-copy\n",
      "  [df[df.gender == x].age.fillna(avg_ages_by_g[i], inplace=True) for i, x in enumerate(df.gender.unique())]\n"
     ]
    },
    {
     "data": {
      "text/plain": "[None, None]"
     },
     "execution_count": 126,
     "metadata": {},
     "output_type": "execute_result"
    }
   ],
   "source": [
    "avg_ages_by_g = [round(df[(df.gender == x) & (df.age is not None)].age.mean()) for x in df.gender.unique()]\n",
    "[df[df.gender == x].age.fillna(avg_ages_by_g[i], inplace=True) for i, x in enumerate(df.gender.unique())]\n"
   ],
   "metadata": {
    "collapsed": false,
    "ExecuteTime": {
     "end_time": "2024-04-15T22:36:30.482229Z",
     "start_time": "2024-04-15T22:36:30.461747Z"
    }
   },
   "id": "5ea4ffa14af10abb",
   "execution_count": 126
  },
  {
   "cell_type": "code",
   "outputs": [
    {
     "data": {
      "text/plain": "      id  gender  age  income  spending_rating\n7    8.0  Female  NaN    18.0             94.0\n14  15.0    Male  NaN    20.0             13.0",
      "text/html": "<div>\n<style scoped>\n    .dataframe tbody tr th:only-of-type {\n        vertical-align: middle;\n    }\n\n    .dataframe tbody tr th {\n        vertical-align: top;\n    }\n\n    .dataframe thead th {\n        text-align: right;\n    }\n</style>\n<table border=\"1\" class=\"dataframe\">\n  <thead>\n    <tr style=\"text-align: right;\">\n      <th></th>\n      <th>id</th>\n      <th>gender</th>\n      <th>age</th>\n      <th>income</th>\n      <th>spending_rating</th>\n    </tr>\n  </thead>\n  <tbody>\n    <tr>\n      <th>7</th>\n      <td>8.0</td>\n      <td>Female</td>\n      <td>NaN</td>\n      <td>18.0</td>\n      <td>94.0</td>\n    </tr>\n    <tr>\n      <th>14</th>\n      <td>15.0</td>\n      <td>Male</td>\n      <td>NaN</td>\n      <td>20.0</td>\n      <td>13.0</td>\n    </tr>\n  </tbody>\n</table>\n</div>"
     },
     "execution_count": 127,
     "metadata": {},
     "output_type": "execute_result"
    }
   ],
   "source": [
    "df.loc[df.id.isin([8.0, 15.0])]"
   ],
   "metadata": {
    "collapsed": false,
    "ExecuteTime": {
     "end_time": "2024-04-15T22:36:30.521677Z",
     "start_time": "2024-04-15T22:36:30.495244Z"
    }
   },
   "id": "ac17eb3515e0bd10",
   "execution_count": 127
  }
 ],
 "metadata": {
  "kernelspec": {
   "display_name": "Python 3",
   "language": "python",
   "name": "python3"
  },
  "language_info": {
   "codemirror_mode": {
    "name": "ipython",
    "version": 2
   },
   "file_extension": ".py",
   "mimetype": "text/x-python",
   "name": "python",
   "nbconvert_exporter": "python",
   "pygments_lexer": "ipython2",
   "version": "2.7.6"
  }
 },
 "nbformat": 4,
 "nbformat_minor": 5
}
