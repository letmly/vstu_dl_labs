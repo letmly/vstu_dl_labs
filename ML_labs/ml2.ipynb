{
 "cells": [
  {
   "cell_type": "code",
   "execution_count": 19,
   "id": "initial_id",
   "metadata": {
    "collapsed": true,
    "ExecuteTime": {
     "end_time": "2024-04-25T22:00:22.699160Z",
     "start_time": "2024-04-25T22:00:22.674849Z"
    }
   },
   "outputs": [
    {
     "name": "stdout",
     "output_type": "stream",
     "text": [
      "     номер     пол  возраст  доход  рейтинг трат\n",
      "0      1.0    Male     19.0   15.0          39.0\n",
      "1      2.0    Male     21.0   15.0          81.0\n",
      "2      3.0  Female     20.0   16.0           6.0\n",
      "3      4.0  Female     23.0   16.0          77.0\n",
      "4      5.0  Female     31.0   17.0          40.0\n",
      "..     ...     ...      ...    ...           ...\n",
      "195  195.0  Female     47.0  120.0          16.0\n",
      "196  197.0  Female     45.0  126.0          28.0\n",
      "197  198.0    Male     32.0  126.0          74.0\n",
      "198  199.0    Male     32.0  137.0          18.0\n",
      "199  200.0    Male     30.0  137.0          83.0\n",
      "\n",
      "[200 rows x 5 columns]\n"
     ]
    }
   ],
   "source": [
    "import pandas as pd\n",
    "import numpy as np\n",
    "df = pd.read_csv('lab2.csv',encoding='cp1251')\n",
    "print(df)"
   ]
  },
  {
   "cell_type": "code",
   "execution_count": 20,
   "id": "2159fdcf270b6f79",
   "metadata": {
    "collapsed": false,
    "ExecuteTime": {
     "end_time": "2024-04-25T22:00:23.140692Z",
     "start_time": "2024-04-25T22:00:23.120043Z"
    }
   },
   "outputs": [
    {
     "name": "stdout",
     "output_type": "stream",
     "text": [
      "<class 'pandas.core.frame.DataFrame'>\n",
      "RangeIndex: 200 entries, 0 to 199\n",
      "Data columns (total 5 columns):\n",
      " #   Column        Non-Null Count  Dtype  \n",
      "---  ------        --------------  -----  \n",
      " 0   номер         199 non-null    float64\n",
      " 1   пол           199 non-null    object \n",
      " 2   возраст       197 non-null    float64\n",
      " 3   доход         197 non-null    float64\n",
      " 4   рейтинг трат  199 non-null    float64\n",
      "dtypes: float64(4), object(1)\n",
      "memory usage: 7.9+ KB\n",
      "None\n"
     ]
    }
   ],
   "source": [
    "print(df.info())"
   ]
  },
  {
   "cell_type": "code",
   "execution_count": 21,
   "id": "a234e2d853162bfb",
   "metadata": {
    "collapsed": false,
    "ExecuteTime": {
     "end_time": "2024-04-25T22:00:23.209548Z",
     "start_time": "2024-04-25T22:00:23.183714Z"
    }
   },
   "outputs": [
    {
     "name": "stdout",
     "output_type": "stream",
     "text": [
      "<class 'pandas.core.frame.DataFrame'>\n",
      "RangeIndex: 200 entries, 0 to 199\n",
      "Data columns (total 5 columns):\n",
      " #   Column           Non-Null Count  Dtype  \n",
      "---  ------           --------------  -----  \n",
      " 0   id               199 non-null    float64\n",
      " 1   gender           199 non-null    object \n",
      " 2   age              197 non-null    float64\n",
      " 3   income           197 non-null    float64\n",
      " 4   spending_rating  199 non-null    float64\n",
      "dtypes: float64(4), object(1)\n",
      "memory usage: 7.9+ KB\n"
     ]
    }
   ],
   "source": [
    "col_name = ['id', 'gender', 'age', 'income','spending_rating' ]\n",
    "df = df.set_axis(col_name, axis = 'columns')\n",
    "df.to_csv('processed_1.csv', index=False, header=True)\n",
    "df.info()"
   ]
  },
  {
   "cell_type": "code",
   "execution_count": 22,
   "id": "5d95b77a352439cf",
   "metadata": {
    "collapsed": false,
    "ExecuteTime": {
     "end_time": "2024-04-25T22:00:23.320667Z",
     "start_time": "2024-04-25T22:00:23.310569Z"
    }
   },
   "outputs": [
    {
     "name": "stdout",
     "output_type": "stream",
     "text": [
      "    id gender  age  income  spending_rating\n",
      "19 NaN    NaN  NaN     NaN              NaN\n"
     ]
    }
   ],
   "source": [
    "print(df[df.id.isnull()])"
   ]
  },
  {
   "cell_type": "code",
   "execution_count": 23,
   "id": "edbdb9f06fc5a9a",
   "metadata": {
    "collapsed": false,
    "ExecuteTime": {
     "end_time": "2024-04-25T22:00:23.415786Z",
     "start_time": "2024-04-25T22:00:23.404685Z"
    }
   },
   "outputs": [],
   "source": [
    "df.dropna(subset = ['id'], inplace=True)"
   ]
  },
  {
   "cell_type": "code",
   "execution_count": 24,
   "id": "3a5da0648b730bdc",
   "metadata": {
    "collapsed": false,
    "ExecuteTime": {
     "end_time": "2024-04-25T22:00:23.500048Z",
     "start_time": "2024-04-25T22:00:23.486808Z"
    }
   },
   "outputs": [
    {
     "name": "stdout",
     "output_type": "stream",
     "text": [
      "      id  gender  age  income  spending_rating\n",
      "7    8.0  Female  NaN    18.0             94.0\n",
      "14  15.0    Male  NaN    20.0             13.0\n"
     ]
    }
   ],
   "source": [
    "print(df[df['age'].isnull() == True])"
   ]
  },
  {
   "cell_type": "code",
   "execution_count": 25,
   "id": "687c08cb",
   "metadata": {
    "ExecuteTime": {
     "end_time": "2024-04-25T22:00:23.585464Z",
     "start_time": "2024-04-25T22:00:23.570066Z"
    }
   },
   "outputs": [
    {
     "data": {
      "text/plain": "[39, 39]"
     },
     "execution_count": 25,
     "metadata": {},
     "output_type": "execute_result"
    }
   ],
   "source": [
    "avg_ages_by_g = [round(df[(df.gender == x) & (df.age.isna() == False)].age.mean()) for x in df.gender.unique()]\n",
    "avg_ages_by_g"
   ]
  },
  {
   "cell_type": "code",
   "execution_count": 26,
   "metadata": {
    "ExecuteTime": {
     "end_time": "2024-04-25T22:00:23.643416Z",
     "start_time": "2024-04-25T22:00:23.626491Z"
    }
   },
   "outputs": [
    {
     "data": {
      "text/plain": "array(['Male', 'Female'], dtype=object)"
     },
     "execution_count": 26,
     "metadata": {},
     "output_type": "execute_result"
    }
   ],
   "source": [
    "df.gender.unique()"
   ],
   "id": "e55a1e862bf33de3"
  },
  {
   "cell_type": "code",
   "execution_count": 27,
   "id": "3f349045",
   "metadata": {
    "ExecuteTime": {
     "end_time": "2024-04-25T22:00:23.776050Z",
     "start_time": "2024-04-25T22:00:23.749350Z"
    }
   },
   "outputs": [
    {
     "data": {
      "text/plain": "      id  gender  age  income  spending_rating\n7    8.0  Female  NaN    18.0             94.0\n14  15.0    Male  NaN    20.0             13.0",
      "text/html": "<div>\n<style scoped>\n    .dataframe tbody tr th:only-of-type {\n        vertical-align: middle;\n    }\n\n    .dataframe tbody tr th {\n        vertical-align: top;\n    }\n\n    .dataframe thead th {\n        text-align: right;\n    }\n</style>\n<table border=\"1\" class=\"dataframe\">\n  <thead>\n    <tr style=\"text-align: right;\">\n      <th></th>\n      <th>id</th>\n      <th>gender</th>\n      <th>age</th>\n      <th>income</th>\n      <th>spending_rating</th>\n    </tr>\n  </thead>\n  <tbody>\n    <tr>\n      <th>7</th>\n      <td>8.0</td>\n      <td>Female</td>\n      <td>NaN</td>\n      <td>18.0</td>\n      <td>94.0</td>\n    </tr>\n    <tr>\n      <th>14</th>\n      <td>15.0</td>\n      <td>Male</td>\n      <td>NaN</td>\n      <td>20.0</td>\n      <td>13.0</td>\n    </tr>\n  </tbody>\n</table>\n</div>"
     },
     "execution_count": 27,
     "metadata": {},
     "output_type": "execute_result"
    }
   ],
   "source": [
    "df.loc[df.id.isin([8.0, 15.0])]"
   ]
  },
  {
   "cell_type": "code",
   "execution_count": 28,
   "id": "5ea4ffa14af10abb",
   "metadata": {
    "collapsed": false,
    "ExecuteTime": {
     "end_time": "2024-04-25T22:00:23.824522Z",
     "start_time": "2024-04-25T22:00:23.814070Z"
    }
   },
   "outputs": [],
   "source": [
    "df.loc[(df.gender == 'Male') & (df.age.isna()), 'age'] = avg_ages_by_g[0]\n",
    "df.loc[(df.gender == 'Female') & (df.age.isna()), 'age'] = avg_ages_by_g[1]"
   ]
  },
  {
   "cell_type": "code",
   "execution_count": 29,
   "id": "ac17eb3515e0bd10",
   "metadata": {
    "collapsed": false,
    "ExecuteTime": {
     "end_time": "2024-04-25T22:00:23.969929Z",
     "start_time": "2024-04-25T22:00:23.948548Z"
    }
   },
   "outputs": [
    {
     "data": {
      "text/plain": "      id  gender   age  income  spending_rating\n7    8.0  Female  39.0    18.0             94.0\n14  15.0    Male  39.0    20.0             13.0",
      "text/html": "<div>\n<style scoped>\n    .dataframe tbody tr th:only-of-type {\n        vertical-align: middle;\n    }\n\n    .dataframe tbody tr th {\n        vertical-align: top;\n    }\n\n    .dataframe thead th {\n        text-align: right;\n    }\n</style>\n<table border=\"1\" class=\"dataframe\">\n  <thead>\n    <tr style=\"text-align: right;\">\n      <th></th>\n      <th>id</th>\n      <th>gender</th>\n      <th>age</th>\n      <th>income</th>\n      <th>spending_rating</th>\n    </tr>\n  </thead>\n  <tbody>\n    <tr>\n      <th>7</th>\n      <td>8.0</td>\n      <td>Female</td>\n      <td>39.0</td>\n      <td>18.0</td>\n      <td>94.0</td>\n    </tr>\n    <tr>\n      <th>14</th>\n      <td>15.0</td>\n      <td>Male</td>\n      <td>39.0</td>\n      <td>20.0</td>\n      <td>13.0</td>\n    </tr>\n  </tbody>\n</table>\n</div>"
     },
     "execution_count": 29,
     "metadata": {},
     "output_type": "execute_result"
    }
   ],
   "source": [
    "df.loc[df.id.isin([8.0, 15.0])]"
   ]
  },
  {
   "cell_type": "code",
   "execution_count": 30,
   "id": "47d4e2e0",
   "metadata": {
    "ExecuteTime": {
     "end_time": "2024-04-25T22:00:24.057489Z",
     "start_time": "2024-04-25T22:00:24.041946Z"
    }
   },
   "outputs": [
    {
     "name": "stdout",
     "output_type": "stream",
     "text": [
      "        id  gender   age  income  spending_rating\n",
      "195  195.0  Female  47.0   120.0             16.0\n",
      "1\n"
     ]
    }
   ],
   "source": [
    "print(df[df.duplicated() == True])\n",
    "print(df.duplicated().sum())"
   ]
  },
  {
   "cell_type": "code",
   "execution_count": 31,
   "id": "e08af8b0",
   "metadata": {
    "ExecuteTime": {
     "end_time": "2024-04-25T22:00:24.139975Z",
     "start_time": "2024-04-25T22:00:24.128509Z"
    }
   },
   "outputs": [],
   "source": [
    "df = df.drop_duplicates().reset_index(drop=True)"
   ]
  },
  {
   "cell_type": "code",
   "execution_count": 32,
   "id": "a9790ac8",
   "metadata": {
    "ExecuteTime": {
     "end_time": "2024-04-25T22:00:24.320814Z",
     "start_time": "2024-04-25T22:00:24.304993Z"
    }
   },
   "outputs": [
    {
     "name": "stdout",
     "output_type": "stream",
     "text": [
      "<class 'pandas.core.frame.DataFrame'>\n",
      "RangeIndex: 198 entries, 0 to 197\n",
      "Data columns (total 5 columns):\n",
      " #   Column           Non-Null Count  Dtype  \n",
      "---  ------           --------------  -----  \n",
      " 0   id               198 non-null    float64\n",
      " 1   gender           198 non-null    object \n",
      " 2   age              198 non-null    float64\n",
      " 3   income           196 non-null    float64\n",
      " 4   spending_rating  198 non-null    float64\n",
      "dtypes: float64(4), object(1)\n",
      "memory usage: 7.9+ KB\n"
     ]
    }
   ],
   "source": [
    "df.info()"
   ]
  },
  {
   "cell_type": "code",
   "outputs": [],
   "source": [
    "avg_income_by_g = [round(df[(df.gender == x) & (df.income.isna() == False)].income.mean()) for x in df.gender.unique()]\n",
    "df.loc[(df.gender == 'Male') & (df.income.isna()), 'income'] = avg_income_by_g[0]\n",
    "df.loc[(df.gender == 'Female') & (df.income.isna()), 'income'] = avg_income_by_g[1]"
   ],
   "metadata": {
    "collapsed": false,
    "ExecuteTime": {
     "end_time": "2024-04-25T22:09:05.052719Z",
     "start_time": "2024-04-25T22:09:05.017717Z"
    }
   },
   "id": "3a5e4652fb53c237",
   "execution_count": 42
  },
  {
   "cell_type": "code",
   "outputs": [
    {
     "name": "stdout",
     "output_type": "stream",
     "text": [
      "0\n",
      "<class 'pandas.core.frame.DataFrame'>\n",
      "RangeIndex: 198 entries, 0 to 197\n",
      "Data columns (total 5 columns):\n",
      " #   Column           Non-Null Count  Dtype  \n",
      "---  ------           --------------  -----  \n",
      " 0   id               198 non-null    float64\n",
      " 1   gender           198 non-null    object \n",
      " 2   age              198 non-null    float64\n",
      " 3   income           198 non-null    float64\n",
      " 4   spending_rating  198 non-null    float64\n",
      "dtypes: float64(4), object(1)\n",
      "memory usage: 7.9+ KB\n"
     ]
    }
   ],
   "source": [
    "df.to_csv(\"proced1.csv\", index=False, header=True)\n",
    "df = pd.read_csv(\"proced1.csv\", encoding='cp1251')\n",
    "print(df.duplicated().sum())\n",
    "df.info()"
   ],
   "metadata": {
    "collapsed": false,
    "ExecuteTime": {
     "end_time": "2024-04-25T22:09:06.454076Z",
     "start_time": "2024-04-25T22:09:06.424370Z"
    }
   },
   "id": "44a903abfde096e6",
   "execution_count": 43
  },
  {
   "cell_type": "markdown",
   "id": "6ea0288f",
   "metadata": {},
   "source": [
    "### Задание"
   ]
  },
  {
   "cell_type": "markdown",
   "id": "b76ffc3d",
   "metadata": {},
   "source": [
    "* 1.Найти датасет содержавший поля с разными типами данных; \n",
    "* 2.Загрузить датасет в Pandas DataFrame и посмотреть сводную информацию о датасете;"
   ]
  },
  {
   "cell_type": "code",
   "execution_count": 44,
   "id": "3c2bc915",
   "metadata": {
    "ExecuteTime": {
     "end_time": "2024-04-25T23:16:05.229413Z",
     "start_time": "2024-04-25T23:16:05.152905Z"
    }
   },
   "outputs": [
    {
     "name": "stdout",
     "output_type": "stream",
     "text": [
      "<class 'pandas.core.frame.DataFrame'>\n",
      "RangeIndex: 1599 entries, 0 to 1598\n",
      "Data columns (total 12 columns):\n",
      " #   Column                Non-Null Count  Dtype  \n",
      "---  ------                --------------  -----  \n",
      " 0   fixed acidity         1599 non-null   float64\n",
      " 1   volatile acidity      1599 non-null   float64\n",
      " 2   citric acid           1599 non-null   float64\n",
      " 3   residual sugar        1599 non-null   float64\n",
      " 4   chlorides             1599 non-null   float64\n",
      " 5   free sulfur dioxide   1599 non-null   float64\n",
      " 6   total sulfur dioxide  1599 non-null   float64\n",
      " 7   density               1599 non-null   float64\n",
      " 8   pH                    1599 non-null   float64\n",
      " 9   sulphates             1599 non-null   float64\n",
      " 10  alcohol               1599 non-null   float64\n",
      " 11  quality               1599 non-null   int64  \n",
      "dtypes: float64(11), int64(1)\n",
      "memory usage: 150.0 KB\n"
     ]
    }
   ],
   "source": [
    "wines_df = pd.read_csv(\"winequality-red.csv\", sep=\";\")\n",
    "\n",
    "wines_df.info()"
   ]
  },
  {
   "cell_type": "markdown",
   "id": "d67fe632",
   "metadata": {},
   "source": [
    "* 3. Переименовать одну или все колонки; "
   ]
  },
  {
   "cell_type": "code",
   "execution_count": 45,
   "id": "ffb79215",
   "metadata": {
    "ExecuteTime": {
     "end_time": "2024-04-25T23:16:05.333094Z",
     "start_time": "2024-04-25T23:16:05.313411Z"
    }
   },
   "outputs": [
    {
     "name": "stdout",
     "output_type": "stream",
     "text": [
      "['fixed_acidity', 'volatile_acidity', 'citric_acid', 'residual_sugar', 'chlorides', 'free_sulfur_dioxide', 'total_sulfur_dioxide', 'density', 'pH', 'sulphates', 'alcohol', 'quality']\n"
     ]
    }
   ],
   "source": [
    "wine_col_names = [x.replace(\" \", \"_\") for x in wines_df.columns]\n",
    "print(wine_col_names)\n",
    "\n",
    "wines_df = wines_df.set_axis(wine_col_names, axis = 'columns')"
   ]
  },
  {
   "cell_type": "code",
   "execution_count": 46,
   "id": "93dcf097",
   "metadata": {
    "ExecuteTime": {
     "end_time": "2024-04-25T23:16:05.384084Z",
     "start_time": "2024-04-25T23:16:05.361082Z"
    }
   },
   "outputs": [
    {
     "name": "stdout",
     "output_type": "stream",
     "text": [
      "<class 'pandas.core.frame.DataFrame'>\n",
      "RangeIndex: 1599 entries, 0 to 1598\n",
      "Data columns (total 12 columns):\n",
      " #   Column                Non-Null Count  Dtype  \n",
      "---  ------                --------------  -----  \n",
      " 0   fixed_acidity         1599 non-null   float64\n",
      " 1   volatile_acidity      1599 non-null   float64\n",
      " 2   citric_acid           1599 non-null   float64\n",
      " 3   residual_sugar        1599 non-null   float64\n",
      " 4   chlorides             1599 non-null   float64\n",
      " 5   free_sulfur_dioxide   1599 non-null   float64\n",
      " 6   total_sulfur_dioxide  1599 non-null   float64\n",
      " 7   density               1599 non-null   float64\n",
      " 8   pH                    1599 non-null   float64\n",
      " 9   sulphates             1599 non-null   float64\n",
      " 10  alcohol               1599 non-null   float64\n",
      " 11  quality               1599 non-null   int64  \n",
      "dtypes: float64(11), int64(1)\n",
      "memory usage: 150.0 KB\n"
     ]
    }
   ],
   "source": [
    "wines_df.info()"
   ]
  },
  {
   "cell_type": "code",
   "execution_count": 47,
   "id": "1c7ca02f",
   "metadata": {
    "ExecuteTime": {
     "end_time": "2024-04-25T23:16:05.513526Z",
     "start_time": "2024-04-25T23:16:05.459081Z"
    }
   },
   "outputs": [
    {
     "data": {
      "text/plain": "count    1599.000000\nmean        5.636023\nstd         0.807569\nmin         3.000000\n25%         5.000000\n50%         6.000000\n75%         6.000000\nmax         8.000000\nName: quality, dtype: float64"
     },
     "execution_count": 47,
     "metadata": {},
     "output_type": "execute_result"
    }
   ],
   "source": [
    "wines_df.quality.describe()"
   ]
  },
  {
   "cell_type": "markdown",
   "id": "00b3553a",
   "metadata": {},
   "source": [
    "* 4. Определить пустые строки и удалить;"
   ]
  },
  {
   "cell_type": "code",
   "execution_count": 48,
   "id": "4915ee20",
   "metadata": {
    "ExecuteTime": {
     "end_time": "2024-04-25T23:16:05.588552Z",
     "start_time": "2024-04-25T23:16:05.520538Z"
    }
   },
   "outputs": [
    {
     "data": {
      "text/plain": "      fixed_acidity  volatile_acidity  citric_acid  residual_sugar  chlorides  \\\n0               7.4             0.700         0.00             1.9      0.076   \n1               7.8             0.880         0.00             2.6      0.098   \n2               7.8             0.760         0.04             2.3      0.092   \n3              11.2             0.280         0.56             1.9      0.075   \n4               7.4             0.700         0.00             1.9      0.076   \n...             ...               ...          ...             ...        ...   \n1594            6.2             0.600         0.08             2.0      0.090   \n1595            5.9             0.550         0.10             2.2      0.062   \n1596            6.3             0.510         0.13             2.3      0.076   \n1597            5.9             0.645         0.12             2.0      0.075   \n1598            6.0             0.310         0.47             3.6      0.067   \n\n      free_sulfur_dioxide  total_sulfur_dioxide  density    pH  sulphates  \\\n0                    11.0                  34.0  0.99780  3.51       0.56   \n1                    25.0                  67.0  0.99680  3.20       0.68   \n2                    15.0                  54.0  0.99700  3.26       0.65   \n3                    17.0                  60.0  0.99800  3.16       0.58   \n4                    11.0                  34.0  0.99780  3.51       0.56   \n...                   ...                   ...      ...   ...        ...   \n1594                 32.0                  44.0  0.99490  3.45       0.58   \n1595                 39.0                  51.0  0.99512  3.52       0.76   \n1596                 29.0                  40.0  0.99574  3.42       0.75   \n1597                 32.0                  44.0  0.99547  3.57       0.71   \n1598                 18.0                  42.0  0.99549  3.39       0.66   \n\n      alcohol  quality  \n0         9.4        5  \n1         9.8        5  \n2         9.8        5  \n3         9.8        6  \n4         9.4        5  \n...       ...      ...  \n1594     10.5        5  \n1595     11.2        6  \n1596     11.0        6  \n1597     10.2        5  \n1598     11.0        6  \n\n[1599 rows x 12 columns]",
      "text/html": "<div>\n<style scoped>\n    .dataframe tbody tr th:only-of-type {\n        vertical-align: middle;\n    }\n\n    .dataframe tbody tr th {\n        vertical-align: top;\n    }\n\n    .dataframe thead th {\n        text-align: right;\n    }\n</style>\n<table border=\"1\" class=\"dataframe\">\n  <thead>\n    <tr style=\"text-align: right;\">\n      <th></th>\n      <th>fixed_acidity</th>\n      <th>volatile_acidity</th>\n      <th>citric_acid</th>\n      <th>residual_sugar</th>\n      <th>chlorides</th>\n      <th>free_sulfur_dioxide</th>\n      <th>total_sulfur_dioxide</th>\n      <th>density</th>\n      <th>pH</th>\n      <th>sulphates</th>\n      <th>alcohol</th>\n      <th>quality</th>\n    </tr>\n  </thead>\n  <tbody>\n    <tr>\n      <th>0</th>\n      <td>7.4</td>\n      <td>0.700</td>\n      <td>0.00</td>\n      <td>1.9</td>\n      <td>0.076</td>\n      <td>11.0</td>\n      <td>34.0</td>\n      <td>0.99780</td>\n      <td>3.51</td>\n      <td>0.56</td>\n      <td>9.4</td>\n      <td>5</td>\n    </tr>\n    <tr>\n      <th>1</th>\n      <td>7.8</td>\n      <td>0.880</td>\n      <td>0.00</td>\n      <td>2.6</td>\n      <td>0.098</td>\n      <td>25.0</td>\n      <td>67.0</td>\n      <td>0.99680</td>\n      <td>3.20</td>\n      <td>0.68</td>\n      <td>9.8</td>\n      <td>5</td>\n    </tr>\n    <tr>\n      <th>2</th>\n      <td>7.8</td>\n      <td>0.760</td>\n      <td>0.04</td>\n      <td>2.3</td>\n      <td>0.092</td>\n      <td>15.0</td>\n      <td>54.0</td>\n      <td>0.99700</td>\n      <td>3.26</td>\n      <td>0.65</td>\n      <td>9.8</td>\n      <td>5</td>\n    </tr>\n    <tr>\n      <th>3</th>\n      <td>11.2</td>\n      <td>0.280</td>\n      <td>0.56</td>\n      <td>1.9</td>\n      <td>0.075</td>\n      <td>17.0</td>\n      <td>60.0</td>\n      <td>0.99800</td>\n      <td>3.16</td>\n      <td>0.58</td>\n      <td>9.8</td>\n      <td>6</td>\n    </tr>\n    <tr>\n      <th>4</th>\n      <td>7.4</td>\n      <td>0.700</td>\n      <td>0.00</td>\n      <td>1.9</td>\n      <td>0.076</td>\n      <td>11.0</td>\n      <td>34.0</td>\n      <td>0.99780</td>\n      <td>3.51</td>\n      <td>0.56</td>\n      <td>9.4</td>\n      <td>5</td>\n    </tr>\n    <tr>\n      <th>...</th>\n      <td>...</td>\n      <td>...</td>\n      <td>...</td>\n      <td>...</td>\n      <td>...</td>\n      <td>...</td>\n      <td>...</td>\n      <td>...</td>\n      <td>...</td>\n      <td>...</td>\n      <td>...</td>\n      <td>...</td>\n    </tr>\n    <tr>\n      <th>1594</th>\n      <td>6.2</td>\n      <td>0.600</td>\n      <td>0.08</td>\n      <td>2.0</td>\n      <td>0.090</td>\n      <td>32.0</td>\n      <td>44.0</td>\n      <td>0.99490</td>\n      <td>3.45</td>\n      <td>0.58</td>\n      <td>10.5</td>\n      <td>5</td>\n    </tr>\n    <tr>\n      <th>1595</th>\n      <td>5.9</td>\n      <td>0.550</td>\n      <td>0.10</td>\n      <td>2.2</td>\n      <td>0.062</td>\n      <td>39.0</td>\n      <td>51.0</td>\n      <td>0.99512</td>\n      <td>3.52</td>\n      <td>0.76</td>\n      <td>11.2</td>\n      <td>6</td>\n    </tr>\n    <tr>\n      <th>1596</th>\n      <td>6.3</td>\n      <td>0.510</td>\n      <td>0.13</td>\n      <td>2.3</td>\n      <td>0.076</td>\n      <td>29.0</td>\n      <td>40.0</td>\n      <td>0.99574</td>\n      <td>3.42</td>\n      <td>0.75</td>\n      <td>11.0</td>\n      <td>6</td>\n    </tr>\n    <tr>\n      <th>1597</th>\n      <td>5.9</td>\n      <td>0.645</td>\n      <td>0.12</td>\n      <td>2.0</td>\n      <td>0.075</td>\n      <td>32.0</td>\n      <td>44.0</td>\n      <td>0.99547</td>\n      <td>3.57</td>\n      <td>0.71</td>\n      <td>10.2</td>\n      <td>5</td>\n    </tr>\n    <tr>\n      <th>1598</th>\n      <td>6.0</td>\n      <td>0.310</td>\n      <td>0.47</td>\n      <td>3.6</td>\n      <td>0.067</td>\n      <td>18.0</td>\n      <td>42.0</td>\n      <td>0.99549</td>\n      <td>3.39</td>\n      <td>0.66</td>\n      <td>11.0</td>\n      <td>6</td>\n    </tr>\n  </tbody>\n</table>\n<p>1599 rows × 12 columns</p>\n</div>"
     },
     "execution_count": 48,
     "metadata": {},
     "output_type": "execute_result"
    }
   ],
   "source": [
    "wines_df.dropna(how='all')"
   ]
  },
  {
   "cell_type": "markdown",
   "id": "70bcf971",
   "metadata": {},
   "source": [
    " * 5. Определить пустые ячейки, вывести на экран и заменить средним значением колонки, средним значением с учетом параметра другой колонки. "
   ]
  },
  {
   "cell_type": "code",
   "execution_count": 49,
   "id": "1750cbeb",
   "metadata": {
    "ExecuteTime": {
     "end_time": "2024-04-25T23:16:05.639491Z",
     "start_time": "2024-04-25T23:16:05.631551Z"
    }
   },
   "outputs": [
    {
     "name": "stdout",
     "output_type": "stream",
     "text": [
      "fixed_acidity           0\n",
      "volatile_acidity        0\n",
      "citric_acid             0\n",
      "residual_sugar          0\n",
      "chlorides               0\n",
      "free_sulfur_dioxide     0\n",
      "total_sulfur_dioxide    0\n",
      "density                 0\n",
      "pH                      0\n",
      "sulphates               0\n",
      "alcohol                 0\n",
      "quality                 0\n",
      "dtype: int64\n"
     ]
    }
   ],
   "source": [
    "print(wines_df.isna().sum())\n",
    "# нет пропусков"
   ]
  },
  {
   "cell_type": "code",
   "execution_count": 50,
   "id": "730ab512",
   "metadata": {
    "ExecuteTime": {
     "end_time": "2024-04-25T23:16:05.723737Z",
     "start_time": "2024-04-25T23:16:05.686009Z"
    }
   },
   "outputs": [
    {
     "name": "stdout",
     "output_type": "stream",
     "text": [
      "{'fixed_acidity': 8.31963727329581, 'volatile_acidity': 0.5278205128205128, 'citric_acid': 0.2709756097560976, 'residual_sugar': 2.53880550343965, 'chlorides': 0.08746654158849279, 'free_sulfur_dioxide': 15.874921826141339, 'density': 0.9967466791744841, 'pH': 3.3111131957473416, 'sulphates': 0.6581488430268917, 'alcohol': 10.422983114446529, 'quality': 5.6360225140712945}\n",
      "[34.44444444444444, 46.9609375]\n"
     ]
    }
   ],
   "source": [
    "avg_wines_values = {}\n",
    "for col in wine_col_names:\n",
    "    avg_wines_values[col] = wines_df[f\"{col}\"].mean()\n",
    "\n",
    "del avg_wines_values[\"total_sulfur_dioxide\"]\n",
    "\n",
    "# сделаем дав значения для total_sulfur_dioxide в зависимости от quality с порогом 5\n",
    "avg_sulfur_dioxide = [0, 0]\n",
    "avg_sulfur_dioxide[0] = wines_df[wines_df.quality < 5].total_sulfur_dioxide.mean()\n",
    "avg_sulfur_dioxide[1] = wines_df[wines_df.quality >= 5].total_sulfur_dioxide.mean()\n",
    "print(avg_wines_values)\n",
    "print(avg_sulfur_dioxide)"
   ]
  },
  {
   "cell_type": "code",
   "execution_count": 51,
   "id": "4589bdc7",
   "metadata": {
    "ExecuteTime": {
     "end_time": "2024-04-25T23:16:05.874463Z",
     "start_time": "2024-04-25T23:16:05.836265Z"
    }
   },
   "outputs": [
    {
     "name": "stderr",
     "output_type": "stream",
     "text": [
      "C:\\Users\\Владелец\\AppData\\Local\\Temp\\ipykernel_3032\\2567612476.py:3: FutureWarning: Setting an item of incompatible dtype is deprecated and will raise in a future error of pandas. Value '5.6360225140712945' has dtype incompatible with int64, please explicitly cast to a compatible dtype first.\n",
      "  wines_df.loc[(wines_df[f\"{k}\"].isna() == True), f'{k}'] = avg_wines_values[k]\n"
     ]
    }
   ],
   "source": [
    "for k in avg_wines_values:\n",
    "\n",
    "    wines_df.loc[(wines_df[f\"{k}\"].isna() == True), f'{k}'] = avg_wines_values[k]"
   ]
  },
  {
   "cell_type": "markdown",
   "id": "046eb810",
   "metadata": {},
   "source": [
    "* 6. Найти дубликаты, вывести на экран и удалить; "
   ]
  },
  {
   "cell_type": "code",
   "execution_count": 52,
   "id": "4231126b",
   "metadata": {
    "ExecuteTime": {
     "end_time": "2024-04-25T23:16:05.986788Z",
     "start_time": "2024-04-25T23:16:05.914458Z"
    }
   },
   "outputs": [
    {
     "name": "stdout",
     "output_type": "stream",
     "text": [
      "      fixed_acidity  volatile_acidity  citric_acid  residual_sugar  chlorides  \\\n",
      "4               7.4             0.700         0.00            1.90      0.076   \n",
      "11              7.5             0.500         0.36            6.10      0.071   \n",
      "27              7.9             0.430         0.21            1.60      0.106   \n",
      "40              7.3             0.450         0.36            5.90      0.074   \n",
      "65              7.2             0.725         0.05            4.65      0.086   \n",
      "...             ...               ...          ...             ...        ...   \n",
      "1563            7.2             0.695         0.13            2.00      0.076   \n",
      "1564            7.2             0.695         0.13            2.00      0.076   \n",
      "1567            7.2             0.695         0.13            2.00      0.076   \n",
      "1581            6.2             0.560         0.09            1.70      0.053   \n",
      "1596            6.3             0.510         0.13            2.30      0.076   \n",
      "\n",
      "      free_sulfur_dioxide  total_sulfur_dioxide  density    pH  sulphates  \\\n",
      "4                    11.0                  34.0  0.99780  3.51       0.56   \n",
      "11                   17.0                 102.0  0.99780  3.35       0.80   \n",
      "27                   10.0                  37.0  0.99660  3.17       0.91   \n",
      "40                   12.0                  87.0  0.99780  3.33       0.83   \n",
      "65                    4.0                  11.0  0.99620  3.41       0.39   \n",
      "...                   ...                   ...      ...   ...        ...   \n",
      "1563                 12.0                  20.0  0.99546  3.29       0.54   \n",
      "1564                 12.0                  20.0  0.99546  3.29       0.54   \n",
      "1567                 12.0                  20.0  0.99546  3.29       0.54   \n",
      "1581                 24.0                  32.0  0.99402  3.54       0.60   \n",
      "1596                 29.0                  40.0  0.99574  3.42       0.75   \n",
      "\n",
      "      alcohol  quality  \n",
      "4         9.4      5.0  \n",
      "11       10.5      5.0  \n",
      "27        9.5      5.0  \n",
      "40       10.5      5.0  \n",
      "65       10.9      5.0  \n",
      "...       ...      ...  \n",
      "1563     10.1      5.0  \n",
      "1564     10.1      5.0  \n",
      "1567     10.1      5.0  \n",
      "1581     11.3      5.0  \n",
      "1596     11.0      6.0  \n",
      "\n",
      "[240 rows x 12 columns]\n",
      "240\n"
     ]
    }
   ],
   "source": [
    "print(wines_df[wines_df.duplicated() == True])\n",
    "print(wines_df.duplicated().sum())\n",
    "\n",
    "df_wines = wines_df.drop_duplicates().reset_index(drop=True)"
   ]
  },
  {
   "cell_type": "code",
   "execution_count": 53,
   "id": "9c8d81cb",
   "metadata": {
    "ExecuteTime": {
     "end_time": "2024-04-25T23:16:06.157444Z",
     "start_time": "2024-04-25T23:16:06.115309Z"
    }
   },
   "outputs": [],
   "source": [
    "wines_df.to_csv(\"prep_red_wine.csv\", index=False, header=True)"
   ]
  }
 ],
 "metadata": {
  "kernelspec": {
   "display_name": "Python 3",
   "language": "python",
   "name": "python3"
  },
  "language_info": {
   "codemirror_mode": {
    "name": "ipython",
    "version": 3
   },
   "file_extension": ".py",
   "mimetype": "text/x-python",
   "name": "python",
   "nbconvert_exporter": "python",
   "pygments_lexer": "ipython3",
   "version": "3.9.7"
  }
 },
 "nbformat": 4,
 "nbformat_minor": 5
}
