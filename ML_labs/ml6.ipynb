{
 "cells": [
  {
   "cell_type": "code",
   "outputs": [
    {
     "name": "stdout",
     "output_type": "stream",
     "text": [
      "   id  gender  age  income     product\n",
      "0   1    Male   19      15  cigarettes\n",
      "1   2    Male   21      15        milk\n",
      "2   3  Female   20      16   chocolate\n",
      "3   4  Female   23      16        milk\n",
      "4   5  Female   31      17       bread\n"
     ]
    }
   ],
   "source": [
    "import pandas as pd\n",
    "import numpy as np\n",
    "from matplotlib import pyplot as plt\n",
    "from mlxtend.preprocessing import TransactionEncoder\n",
    "from mlxtend.frequent_patterns import fpgrowth\n",
    "from math import isnan\n",
    "df = pd.read_csv('./csvs/lab6.csv',encoding='cp1251')\n",
    "print(df.head(5))"
   ],
   "metadata": {
    "collapsed": false,
    "ExecuteTime": {
     "end_time": "2024-05-12T18:54:07.078180Z",
     "start_time": "2024-05-12T18:54:07.060213Z"
    }
   },
   "id": "52e5cae7b0ce510b",
   "execution_count": 4
  },
  {
   "cell_type": "code",
   "outputs": [
    {
     "name": "stdout",
     "output_type": "stream",
     "text": [
      "[['cigarettes'], ['milk'], ['chocolate'], ['milk'], ['bread'], ['bread'], ['milk'], ['water '], ['water '], ['bread'], ['water '], ['water '], ['chocolate'], ['milk'], ['water '], ['oil'], ['chocolate'], ['oil'], ['chocolate'], ['chocolate'], ['cigarettes'], ['flakes '], ['cigarettes'], ['tangerines'], ['tangerines'], ['cigarettes'], ['tangerines'], ['cigarettes'], ['water '], ['flakes '], ['tangerines'], ['cigarettes'], ['cigarettes'], ['milk'], ['chocolate'], ['milk'], ['bread'], ['bread'], ['milk'], ['water '], ['water '], ['bread'], ['water '], ['water '], ['chocolate'], ['milk'], ['water '], ['oil'], ['chocolate'], ['oil'], ['chocolate'], ['chocolate'], ['cigarettes'], ['flakes '], ['cigarettes'], ['tangerines'], ['tangerines'], ['cigarettes'], ['tangerines'], ['cigarettes'], ['water '], ['flakes '], ['tangerines'], ['cigarettes'], ['cigarettes'], ['milk'], ['chocolate'], ['milk'], ['bread'], ['bread'], ['milk'], ['water '], ['water '], ['bread'], ['water '], ['water '], ['chocolate'], ['milk'], ['water '], ['oil'], ['chocolate'], ['oil'], ['chocolate'], ['chocolate'], ['cigarettes'], ['flakes '], ['cigarettes'], ['tangerines'], ['tangerines'], ['cigarettes'], ['tangerines'], ['cigarettes'], ['water '], ['flakes '], ['tangerines'], ['cigarettes'], ['cigarettes'], ['milk'], ['chocolate'], ['milk'], ['bread'], ['bread'], ['milk'], ['water '], ['water '], ['bread'], ['water '], ['water '], ['chocolate'], ['milk'], ['water '], ['oil'], ['chocolate'], ['oil'], ['chocolate'], ['chocolate'], ['cigarettes'], ['flakes '], ['cigarettes'], ['tangerines'], ['tangerines'], ['cigarettes'], ['tangerines'], ['cigarettes'], ['water '], ['flakes '], ['tangerines'], ['cigarettes'], ['cigarettes'], ['milk'], ['chocolate'], ['milk'], ['bread'], ['bread'], ['milk'], ['water '], ['water '], ['bread'], ['water '], ['water '], ['chocolate'], ['milk'], ['water '], ['oil'], ['chocolate'], ['oil'], ['chocolate'], ['chocolate'], ['cigarettes'], ['flakes '], ['cigarettes'], ['tangerines'], ['tangerines'], ['cigarettes'], ['tangerines'], ['cigarettes'], ['water '], ['flakes '], ['tangerines'], ['cigarettes'], ['cigarettes'], ['milk'], ['chocolate'], ['milk'], ['bread'], ['bread'], ['milk'], ['water '], ['water '], ['bread'], ['water '], ['water '], ['chocolate'], ['milk'], ['water '], ['oil'], ['chocolate'], ['oil'], ['chocolate'], ['chocolate'], ['cigarettes'], ['flakes '], ['cigarettes'], ['tangerines'], ['tangerines'], ['cigarettes'], ['tangerines'], ['cigarettes'], ['water '], ['flakes '], ['tangerines'], ['cigarettes'], ['cigarettes'], ['milk'], ['chocolate'], ['milk'], ['bread'], ['bread']]\n"
     ]
    }
   ],
   "source": [
    "df = pd.read_csv('./csvs/lab6.csv',encoding='cp1251')\n",
    "\n",
    "np_df = df.to_numpy()\n",
    "np_df = [[elem for elem in row[4:] if isinstance(elem,str)] for row in\n",
    "         np_df]\n",
    "print(np_df)"
   ],
   "metadata": {
    "collapsed": false,
    "ExecuteTime": {
     "end_time": "2024-05-12T18:54:07.782540Z",
     "start_time": "2024-05-12T18:54:07.764328Z"
    }
   },
   "id": "562e147820cbb087",
   "execution_count": 5
  },
  {
   "cell_type": "code",
   "outputs": [
    {
     "data": {
      "text/plain": "array(['cigarettes', 'milk', 'chocolate', 'bread', 'water ', 'oil',\n       'flakes ', 'tangerines'], dtype=object)"
     },
     "execution_count": 8,
     "metadata": {},
     "output_type": "execute_result"
    }
   ],
   "source": [
    "unique_items = df['product'].unique()\n",
    "unique_items"
   ],
   "metadata": {
    "collapsed": false,
    "ExecuteTime": {
     "end_time": "2024-05-12T18:55:19.827424Z",
     "start_time": "2024-05-12T18:55:19.814485Z"
    }
   },
   "id": "65e8f5dd46678d59",
   "execution_count": 8
  },
  {
   "cell_type": "code",
   "outputs": [
    {
     "data": {
      "text/plain": "   bread  chocolate  cigarettes  flakes    milk    oil  tangerines  water \n0  False      False        True    False  False  False       False   False\n1  False      False       False    False   True  False       False   False\n2  False       True       False    False  False  False       False   False\n3  False      False       False    False   True  False       False   False\n4   True      False       False    False  False  False       False   False",
      "text/html": "<div>\n<style scoped>\n    .dataframe tbody tr th:only-of-type {\n        vertical-align: middle;\n    }\n\n    .dataframe tbody tr th {\n        vertical-align: top;\n    }\n\n    .dataframe thead th {\n        text-align: right;\n    }\n</style>\n<table border=\"1\" class=\"dataframe\">\n  <thead>\n    <tr style=\"text-align: right;\">\n      <th></th>\n      <th>bread</th>\n      <th>chocolate</th>\n      <th>cigarettes</th>\n      <th>flakes</th>\n      <th>milk</th>\n      <th>oil</th>\n      <th>tangerines</th>\n      <th>water</th>\n    </tr>\n  </thead>\n  <tbody>\n    <tr>\n      <th>0</th>\n      <td>False</td>\n      <td>False</td>\n      <td>True</td>\n      <td>False</td>\n      <td>False</td>\n      <td>False</td>\n      <td>False</td>\n      <td>False</td>\n    </tr>\n    <tr>\n      <th>1</th>\n      <td>False</td>\n      <td>False</td>\n      <td>False</td>\n      <td>False</td>\n      <td>True</td>\n      <td>False</td>\n      <td>False</td>\n      <td>False</td>\n    </tr>\n    <tr>\n      <th>2</th>\n      <td>False</td>\n      <td>True</td>\n      <td>False</td>\n      <td>False</td>\n      <td>False</td>\n      <td>False</td>\n      <td>False</td>\n      <td>False</td>\n    </tr>\n    <tr>\n      <th>3</th>\n      <td>False</td>\n      <td>False</td>\n      <td>False</td>\n      <td>False</td>\n      <td>True</td>\n      <td>False</td>\n      <td>False</td>\n      <td>False</td>\n    </tr>\n    <tr>\n      <th>4</th>\n      <td>True</td>\n      <td>False</td>\n      <td>False</td>\n      <td>False</td>\n      <td>False</td>\n      <td>False</td>\n      <td>False</td>\n      <td>False</td>\n    </tr>\n  </tbody>\n</table>\n</div>"
     },
     "execution_count": 13,
     "metadata": {},
     "output_type": "execute_result"
    }
   ],
   "source": [
    "te = TransactionEncoder()\n",
    "te_ary = te.fit_transform(np_df)\n",
    "df_new = pd.DataFrame(te_ary, columns=te.columns_)\n",
    "df_new.head()\n"
   ],
   "metadata": {
    "collapsed": false,
    "ExecuteTime": {
     "end_time": "2024-05-12T18:56:10.315489Z",
     "start_time": "2024-05-12T18:56:10.298567Z"
    }
   },
   "id": "c81d9f2132223f78",
   "execution_count": 13
  },
  {
   "cell_type": "code",
   "outputs": [
    {
     "name": "stdout",
     "output_type": "stream",
     "text": [
      "    support      itemsets\n",
      "0  0.186869  (cigarettes)\n",
      "1  0.131313        (milk)\n",
      "2  0.156566   (chocolate)\n",
      "3  0.101010       (bread)\n",
      "4  0.181818      (water )\n",
      "5  0.060606         (oil)\n",
      "6  0.060606     (flakes )\n",
      "7  0.121212  (tangerines)\n"
     ]
    }
   ],
   "source": [
    "fpg = fpgrowth(df_new, min_support=0.03, use_colnames = True)\n",
    "print(fpg)\n"
   ],
   "metadata": {
    "collapsed": false,
    "ExecuteTime": {
     "end_time": "2024-05-12T18:56:18.843379Z",
     "start_time": "2024-05-12T18:56:18.817665Z"
    }
   },
   "id": "1acf5bac120bb123",
   "execution_count": 14
  },
  {
   "cell_type": "code",
   "outputs": [
    {
     "data": {
      "text/plain": "<Figure size 640x480 with 1 Axes>",
      "image/png": "[encoded data removed]"
     },
     "metadata": {},
     "output_type": "display_data"
    }
   ],
   "source": [
    "min_support_range = np.arange(0.01, 0.4, 0.01)\n",
    "itemsets_lengths = []\n",
    "threshold_supports = []\n",
    "threshold_lengths = []\n",
    "last_itemset_len = len(df_new.columns)\n",
    "for min_support in min_support_range:\n",
    "    fpg = fpgrowth(df_new, min_support=min_support, use_colnames=True)\n",
    "    itemsets_lengths.append(len(fpg))\n",
    "    fpg['length'] = fpg['itemsets'].apply(lambda x: len(x))\n",
    "    current_itemset_max_len = fpg['length' ].max()\n",
    "    if isnan(current_itemset_max_len):\n",
    "        current_itemset_max_len = 0\n",
    "    if current_itemset_max_len < last_itemset_len:\n",
    "        last_itemset_len = current_itemset_max_len\n",
    "    threshold_supports.append(min_support)\n",
    "    threshold_lengths.append(len(fpg))\n",
    "plt.figure()\n",
    "plt.plot(min_support_range.tolist(), itemsets_lengths)\n",
    "plt.plot(threshold_supports, threshold_lengths, 'ro')\n",
    "plt.show()"
   ],
   "metadata": {
    "collapsed": false,
    "ExecuteTime": {
     "end_time": "2024-05-12T18:56:27.189383Z",
     "start_time": "2024-05-12T18:56:26.395837Z"
    }
   },
   "id": "696f8bc1da15f842",
   "execution_count": 15
  },
  {
   "cell_type": "code",
   "outputs": [],
   "source": [],
   "metadata": {
    "collapsed": false
   },
   "id": "8fb7b6d808866ef4"
  }
 ],
 "metadata": {
  "kernelspec": {
   "display_name": "Python 3",
   "language": "python",
   "name": "python3"
  },
  "language_info": {
   "codemirror_mode": {
    "name": "ipython",
    "version": 2
   },
   "file_extension": ".py",
   "mimetype": "text/x-python",
   "name": "python",
   "nbconvert_exporter": "python",
   "pygments_lexer": "ipython2",
   "version": "2.7.6"
  }
 },
 "nbformat": 4,
 "nbformat_minor": 5
}
