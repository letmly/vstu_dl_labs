{
 "cells": [
  {
   "cell_type": "code",
   "outputs": [
    {
     "name": "stdout",
     "output_type": "stream",
     "text": [
      "   id  gender  age  income     product\n",
      "0   1    Male   19      15  cigarettes\n",
      "1   2    Male   21      15        milk\n",
      "2   3  Female   20      16   chocolate\n",
      "3   4  Female   23      16        milk\n",
      "4   5  Female   31      17       bread\n"
     ]
    }
   ],
   "source": [
    "import pandas as pd\n",
    "import numpy as np\n",
    "from matplotlib import pyplot as plt\n",
    "from mlxtend.preprocessing import TransactionEncoder\n",
    "from mlxtend.frequent_patterns import fpgrowth, fpmax\n",
    "from math import isnan\n",
    "df = pd.read_csv('../csvs/lab6.csv',encoding='cp1251')\n",
    "print(df.head(5))"
   ],
   "metadata": {
    "collapsed": false,
    "ExecuteTime": {
     "end_time": "2024-05-16T17:42:15.466659Z",
     "start_time": "2024-05-16T17:42:15.447371Z"
    }
   },
   "id": "52e5cae7b0ce510b",
   "execution_count": 49
  },
  {
   "cell_type": "code",
   "outputs": [
    {
     "name": "stdout",
     "output_type": "stream",
     "text": [
      "[['cigarettes'], ['milk'], ['chocolate'], ['milk'], ['bread'], ['bread'], ['milk'], ['water '], ['water '], ['bread'], ['water '], ['water '], ['chocolate'], ['milk'], ['water '], ['oil'], ['chocolate'], ['oil'], ['chocolate'], ['chocolate'], ['cigarettes'], ['flakes '], ['cigarettes'], ['tangerines'], ['tangerines'], ['cigarettes'], ['tangerines'], ['cigarettes'], ['water '], ['flakes '], ['tangerines'], ['cigarettes'], ['cigarettes'], ['milk'], ['chocolate'], ['milk'], ['bread'], ['bread'], ['milk'], ['water '], ['water '], ['bread'], ['water '], ['water '], ['chocolate'], ['milk'], ['water '], ['oil'], ['chocolate'], ['oil'], ['chocolate'], ['chocolate'], ['cigarettes'], ['flakes '], ['cigarettes'], ['tangerines'], ['tangerines'], ['cigarettes'], ['tangerines'], ['cigarettes'], ['water '], ['flakes '], ['tangerines'], ['cigarettes'], ['cigarettes'], ['milk'], ['chocolate'], ['milk'], ['bread'], ['bread'], ['milk'], ['water '], ['water '], ['bread'], ['water '], ['water '], ['chocolate'], ['milk'], ['water '], ['oil'], ['chocolate'], ['oil'], ['chocolate'], ['chocolate'], ['cigarettes'], ['flakes '], ['cigarettes'], ['tangerines'], ['tangerines'], ['cigarettes'], ['tangerines'], ['cigarettes'], ['water '], ['flakes '], ['tangerines'], ['cigarettes'], ['cigarettes'], ['milk'], ['chocolate'], ['milk'], ['bread'], ['bread'], ['milk'], ['water '], ['water '], ['bread'], ['water '], ['water '], ['chocolate'], ['milk'], ['water '], ['oil'], ['chocolate'], ['oil'], ['chocolate'], ['chocolate'], ['cigarettes'], ['flakes '], ['cigarettes'], ['tangerines'], ['tangerines'], ['cigarettes'], ['tangerines'], ['cigarettes'], ['water '], ['flakes '], ['tangerines'], ['cigarettes'], ['cigarettes'], ['milk'], ['chocolate'], ['milk'], ['bread'], ['bread'], ['milk'], ['water '], ['water '], ['bread'], ['water '], ['water '], ['chocolate'], ['milk'], ['water '], ['oil'], ['chocolate'], ['oil'], ['chocolate'], ['chocolate'], ['cigarettes'], ['flakes '], ['cigarettes'], ['tangerines'], ['tangerines'], ['cigarettes'], ['tangerines'], ['cigarettes'], ['water '], ['flakes '], ['tangerines'], ['cigarettes'], ['cigarettes'], ['milk'], ['chocolate'], ['milk'], ['bread'], ['bread'], ['milk'], ['water '], ['water '], ['bread'], ['water '], ['water '], ['chocolate'], ['milk'], ['water '], ['oil'], ['chocolate'], ['oil'], ['chocolate'], ['chocolate'], ['cigarettes'], ['flakes '], ['cigarettes'], ['tangerines'], ['tangerines'], ['cigarettes'], ['tangerines'], ['cigarettes'], ['water '], ['flakes '], ['tangerines'], ['cigarettes'], ['cigarettes'], ['milk'], ['chocolate'], ['milk'], ['bread'], ['bread']]\n"
     ]
    }
   ],
   "source": [
    "np_df = df.to_numpy()\n",
    "np_df = [[elem for elem in row[4:] if isinstance(elem,str)] for row in np_df]\n",
    "print(np_df)"
   ],
   "metadata": {
    "collapsed": false,
    "ExecuteTime": {
     "end_time": "2024-05-16T17:42:15.786841Z",
     "start_time": "2024-05-16T17:42:15.774591Z"
    }
   },
   "id": "562e147820cbb087",
   "execution_count": 50
  },
  {
   "cell_type": "code",
   "outputs": [
    {
     "data": {
      "text/plain": "array(['cigarettes', 'milk', 'chocolate', 'bread', 'water ', 'oil',\n       'flakes ', 'tangerines'], dtype=object)"
     },
     "execution_count": 51,
     "metadata": {},
     "output_type": "execute_result"
    }
   ],
   "source": [
    "unique_items = df['product'].unique()\n",
    "unique_items"
   ],
   "metadata": {
    "collapsed": false,
    "ExecuteTime": {
     "end_time": "2024-05-16T17:42:15.817241Z",
     "start_time": "2024-05-16T17:42:15.806833Z"
    }
   },
   "id": "65e8f5dd46678d59",
   "execution_count": 51
  },
  {
   "cell_type": "code",
   "outputs": [
    {
     "data": {
      "text/plain": "   bread  chocolate  cigarettes  flakes    milk    oil  tangerines  water \n0  False      False        True    False  False  False       False   False\n1  False      False       False    False   True  False       False   False\n2  False       True       False    False  False  False       False   False\n3  False      False       False    False   True  False       False   False\n4   True      False       False    False  False  False       False   False",
      "text/html": "<div>\n<style scoped>\n    .dataframe tbody tr th:only-of-type {\n        vertical-align: middle;\n    }\n\n    .dataframe tbody tr th {\n        vertical-align: top;\n    }\n\n    .dataframe thead th {\n        text-align: right;\n    }\n</style>\n<table border=\"1\" class=\"dataframe\">\n  <thead>\n    <tr style=\"text-align: right;\">\n      <th></th>\n      <th>bread</th>\n      <th>chocolate</th>\n      <th>cigarettes</th>\n      <th>flakes</th>\n      <th>milk</th>\n      <th>oil</th>\n      <th>tangerines</th>\n      <th>water</th>\n    </tr>\n  </thead>\n  <tbody>\n    <tr>\n      <th>0</th>\n      <td>False</td>\n      <td>False</td>\n      <td>True</td>\n      <td>False</td>\n      <td>False</td>\n      <td>False</td>\n      <td>False</td>\n      <td>False</td>\n    </tr>\n    <tr>\n      <th>1</th>\n      <td>False</td>\n      <td>False</td>\n      <td>False</td>\n      <td>False</td>\n      <td>True</td>\n      <td>False</td>\n      <td>False</td>\n      <td>False</td>\n    </tr>\n    <tr>\n      <th>2</th>\n      <td>False</td>\n      <td>True</td>\n      <td>False</td>\n      <td>False</td>\n      <td>False</td>\n      <td>False</td>\n      <td>False</td>\n      <td>False</td>\n    </tr>\n    <tr>\n      <th>3</th>\n      <td>False</td>\n      <td>False</td>\n      <td>False</td>\n      <td>False</td>\n      <td>True</td>\n      <td>False</td>\n      <td>False</td>\n      <td>False</td>\n    </tr>\n    <tr>\n      <th>4</th>\n      <td>True</td>\n      <td>False</td>\n      <td>False</td>\n      <td>False</td>\n      <td>False</td>\n      <td>False</td>\n      <td>False</td>\n      <td>False</td>\n    </tr>\n  </tbody>\n</table>\n</div>"
     },
     "execution_count": 52,
     "metadata": {},
     "output_type": "execute_result"
    }
   ],
   "source": [
    "te = TransactionEncoder()\n",
    "te_ary = te.fit_transform(np_df)\n",
    "df_new = pd.DataFrame(te_ary, columns=te.columns_)\n",
    "df_new.head()\n"
   ],
   "metadata": {
    "collapsed": false,
    "ExecuteTime": {
     "end_time": "2024-05-16T17:42:15.868627Z",
     "start_time": "2024-05-16T17:42:15.838225Z"
    }
   },
   "id": "c81d9f2132223f78",
   "execution_count": 52
  },
  {
   "cell_type": "code",
   "outputs": [
    {
     "name": "stdout",
     "output_type": "stream",
     "text": [
      "    support      itemsets\n",
      "0  0.186869  (cigarettes)\n",
      "4  0.181818      (water )\n",
      "2  0.156566   (chocolate)\n",
      "1  0.131313        (milk)\n",
      "7  0.121212  (tangerines)\n",
      "3  0.101010       (bread)\n",
      "5  0.060606         (oil)\n",
      "6  0.060606     (flakes )\n",
      "    support      itemsets\n",
      "7  0.186869  (cigarettes)\n",
      "6  0.181818      (water )\n",
      "5  0.156566   (chocolate)\n",
      "4  0.131313        (milk)\n",
      "3  0.121212  (tangerines)\n",
      "2  0.101010       (bread)\n",
      "0  0.060606     (flakes )\n",
      "1  0.060606         (oil)\n"
     ]
    }
   ],
   "source": [
    "fpg = fpgrowth(df_new, min_support=0.03, use_colnames = True)\n",
    "print(fpg.sort_values(by='support', ascending=False))\n",
    "fpm = fpmax(df_new, min_support=0.03, use_colnames = True)\n",
    "print(fpm.sort_values(by='support', ascending=False))"
   ],
   "metadata": {
    "collapsed": false,
    "ExecuteTime": {
     "end_time": "2024-05-16T17:42:15.961188Z",
     "start_time": "2024-05-16T17:42:15.923620Z"
    }
   },
   "id": "1acf5bac120bb123",
   "execution_count": 53
  },
  {
   "cell_type": "code",
   "outputs": [
    {
     "data": {
      "text/plain": "<Figure size 640x480 with 1 Axes>",
      "image/png": "[encoded data removed]"
     },
     "metadata": {},
     "output_type": "display_data"
    }
   ],
   "source": [
    "min_support_range = np.arange(0.01, 0.4, 0.01)\n",
    "itemsets_lengths = []\n",
    "threshold_supports = []\n",
    "threshold_lengths = []\n",
    "last_itemset_len = len(df_new.columns)\n",
    "for min_support in min_support_range:\n",
    "    fpg = fpgrowth(df_new, min_support=min_support, use_colnames=True)\n",
    "    itemsets_lengths.append(len(fpg))\n",
    "    fpg['length'] = fpg['itemsets'].apply(lambda x: len(x))\n",
    "    current_itemset_max_len = fpg['length' ].max()\n",
    "    if isnan(current_itemset_max_len):\n",
    "        current_itemset_max_len = 0\n",
    "    if current_itemset_max_len < last_itemset_len:\n",
    "        last_itemset_len = current_itemset_max_len\n",
    "    threshold_supports.append(min_support)\n",
    "    threshold_lengths.append(len(fpg))\n",
    "plt.figure()\n",
    "plt.plot(min_support_range.tolist(), itemsets_lengths)\n",
    "plt.plot(threshold_supports, threshold_lengths, 'ro')\n",
    "plt.show()"
   ],
   "metadata": {
    "collapsed": false,
    "ExecuteTime": {
     "end_time": "2024-05-16T17:42:16.465208Z",
     "start_time": "2024-05-16T17:42:15.984171Z"
    }
   },
   "id": "696f8bc1da15f842",
   "execution_count": 54
  },
  {
   "cell_type": "markdown",
   "source": [
    "1. Загрузить пред обработанные данные, вывести первые 5 строк из \n",
    "датасета;"
   ],
   "metadata": {
    "collapsed": false
   },
   "id": "dd163022f3b9ba7e"
  },
  {
   "cell_type": "code",
   "outputs": [
    {
     "data": {
      "text/plain": "   question_id                                           question  answer  \\\n0            0  Фраза «You talkin' to me?» («Это ты мне сказал...     NaN   \n1            1  Немецкая панк-рок группа «The Bates» взяла сво...     NaN   \n2            2  Из-за обилия секса и насилия ЭТА экранизация б...     NaN   \n3            3  ЭТОТ фильм, основанный на автобиографическом п...     NaN   \n4            4  В 2003 году ЭТОТ фильм режиссеров Фернанду Мей...     NaN   \n\n                          topic           author               tour_name  \\\n0  Фильмы не получившие «Оскар»  Алексей Абрамов  Кубок хитрого собакена   \n1  Фильмы не получившие «Оскар»  Алексей Абрамов  Кубок хитрого собакена   \n2  Фильмы не получившие «Оскар»  Алексей Абрамов  Кубок хитрого собакена   \n3  Фильмы не получившие «Оскар»  Алексей Абрамов  Кубок хитрого собакена   \n4  Фильмы не получившие «Оскар»  Алексей Абрамов  Кубок хитрого собакена   \n\n   tour_link  \n0        NaN  \n1        NaN  \n2        NaN  \n3        NaN  \n4        NaN  ",
      "text/html": "<div>\n<style scoped>\n    .dataframe tbody tr th:only-of-type {\n        vertical-align: middle;\n    }\n\n    .dataframe tbody tr th {\n        vertical-align: top;\n    }\n\n    .dataframe thead th {\n        text-align: right;\n    }\n</style>\n<table border=\"1\" class=\"dataframe\">\n  <thead>\n    <tr style=\"text-align: right;\">\n      <th></th>\n      <th>question_id</th>\n      <th>question</th>\n      <th>answer</th>\n      <th>topic</th>\n      <th>author</th>\n      <th>tour_name</th>\n      <th>tour_link</th>\n    </tr>\n  </thead>\n  <tbody>\n    <tr>\n      <th>0</th>\n      <td>0</td>\n      <td>Фраза «You talkin' to me?» («Это ты мне сказал...</td>\n      <td>NaN</td>\n      <td>Фильмы не получившие «Оскар»</td>\n      <td>Алексей Абрамов</td>\n      <td>Кубок хитрого собакена</td>\n      <td>NaN</td>\n    </tr>\n    <tr>\n      <th>1</th>\n      <td>1</td>\n      <td>Немецкая панк-рок группа «The Bates» взяла сво...</td>\n      <td>NaN</td>\n      <td>Фильмы не получившие «Оскар»</td>\n      <td>Алексей Абрамов</td>\n      <td>Кубок хитрого собакена</td>\n      <td>NaN</td>\n    </tr>\n    <tr>\n      <th>2</th>\n      <td>2</td>\n      <td>Из-за обилия секса и насилия ЭТА экранизация б...</td>\n      <td>NaN</td>\n      <td>Фильмы не получившие «Оскар»</td>\n      <td>Алексей Абрамов</td>\n      <td>Кубок хитрого собакена</td>\n      <td>NaN</td>\n    </tr>\n    <tr>\n      <th>3</th>\n      <td>3</td>\n      <td>ЭТОТ фильм, основанный на автобиографическом п...</td>\n      <td>NaN</td>\n      <td>Фильмы не получившие «Оскар»</td>\n      <td>Алексей Абрамов</td>\n      <td>Кубок хитрого собакена</td>\n      <td>NaN</td>\n    </tr>\n    <tr>\n      <th>4</th>\n      <td>4</td>\n      <td>В 2003 году ЭТОТ фильм режиссеров Фернанду Мей...</td>\n      <td>NaN</td>\n      <td>Фильмы не получившие «Оскар»</td>\n      <td>Алексей Абрамов</td>\n      <td>Кубок хитрого собакена</td>\n      <td>NaN</td>\n    </tr>\n  </tbody>\n</table>\n</div>"
     },
     "execution_count": 55,
     "metadata": {},
     "output_type": "execute_result"
    }
   ],
   "source": [
    "nlp_ru_df = pd.read_json(\"../csvs/nlp_beat.jsonl\", lines=True)\n",
    "nlp_ru_df.head(5)"
   ],
   "metadata": {
    "collapsed": false,
    "ExecuteTime": {
     "end_time": "2024-05-16T17:42:16.511192Z",
     "start_time": "2024-05-16T17:42:16.468194Z"
    }
   },
   "id": "78d6c87cd19f9a28",
   "execution_count": 55
  },
  {
   "cell_type": "markdown",
   "source": [
    "\n",
    "2. Переформировать нужную колонку;"
   ],
   "metadata": {
    "collapsed": false
   },
   "id": "8181e12eafcb0238"
  },
  {
   "cell_type": "code",
   "outputs": [
    {
     "name": "stdout",
     "output_type": "stream",
     "text": [
      "[['Кубок хитрого собакена'], ['Кубок хитрого собакена'], ['Кубок хитрого собакена'], ['Кубок хитрого собакена'], ['Кубок хитрого собакена'], ['Кубок хитрого собакена'], ['Кубок хитрого собакена'], ['Кубок хитрого собакена'], ['Кубок хитрого собакена'], ['Кубок хитрого собакена']] ...\n"
     ]
    }
   ],
   "source": [
    "ids = nlp_ru_df['question_id'].unique()\n",
    "ids_tour_names = [[el for el in nlp_ru_df[nlp_ru_df['question_id'] == id]['tour_name']] for id in ids]\n",
    "print(ids_tour_names[:10], '...')"
   ],
   "metadata": {
    "collapsed": false,
    "ExecuteTime": {
     "end_time": "2024-05-16T17:42:17.302464Z",
     "start_time": "2024-05-16T17:42:16.562199Z"
    }
   },
   "id": "473f79811814394e",
   "execution_count": 56
  },
  {
   "cell_type": "markdown",
   "source": [
    "\n",
    "3. Вывести уникальное количество значений;"
   ],
   "metadata": {
    "collapsed": false
   },
   "id": "1455474b70c20beb"
  },
  {
   "cell_type": "code",
   "outputs": [
    {
     "name": "stdout",
     "output_type": "stream",
     "text": [
      "Кол-ва уникальных названий тура:  4 ['Кубок хитрого собакена' 'Svoyachok' 'Тапир и Свояк'\n",
      " 'Большой летний тройник']\n"
     ]
    }
   ],
   "source": [
    "print(\"Кол-ва уникальных названий тура: \", len(nlp_ru_df['tour_name'].unique()), nlp_ru_df['tour_name'].unique())"
   ],
   "metadata": {
    "collapsed": false,
    "ExecuteTime": {
     "end_time": "2024-05-16T17:42:17.325460Z",
     "start_time": "2024-05-16T17:42:17.310458Z"
    }
   },
   "id": "d1abdb17667f340b",
   "execution_count": 57
  },
  {
   "cell_type": "markdown",
   "source": [
    "\n",
    "4. Преобразовать данные к формату воспользовавшись TransactionEncoder;"
   ],
   "metadata": {
    "collapsed": false
   },
   "id": "84138143c176c9a1"
  },
  {
   "cell_type": "code",
   "outputs": [
    {
     "name": "stdout",
     "output_type": "stream",
     "text": [
      "     Svoyachok  Большой летний тройник  Кубок хитрого собакена  Тапир и Свояк\n",
      "0        False                   False                    True          False\n",
      "1        False                   False                    True          False\n",
      "2        False                   False                    True          False\n",
      "3        False                   False                    True          False\n",
      "4        False                   False                    True          False\n",
      "..         ...                     ...                     ...            ...\n",
      "515      False                    True                   False          False\n",
      "516      False                    True                   False          False\n",
      "517      False                    True                   False          False\n",
      "518      False                    True                   False          False\n",
      "519      False                    True                   False          False\n",
      "\n",
      "[520 rows x 4 columns]\n"
     ]
    }
   ],
   "source": [
    "te = TransactionEncoder()\n",
    "te_ary = te.fit_transform(ids_tour_names)\n",
    "df_new = pd.DataFrame(te_ary, columns=te.columns_)\n",
    "print(df_new)\n"
   ],
   "metadata": {
    "collapsed": false,
    "ExecuteTime": {
     "end_time": "2024-05-16T17:42:17.363595Z",
     "start_time": "2024-05-16T17:42:17.330463Z"
    }
   },
   "id": "c034cfd4765b837d",
   "execution_count": 58
  },
  {
   "cell_type": "markdown",
   "source": [
    "\n",
    "5. Провести ассоциативный анализ с помощью алгоритмов FPGrowth и\n",
    "FPmax."
   ],
   "metadata": {
    "collapsed": false
   },
   "id": "cf1ef6929ecd3f49"
  },
  {
   "cell_type": "code",
   "outputs": [
    {
     "name": "stdout",
     "output_type": "stream",
     "text": [
      "    support                  itemsets\n",
      "0  0.644231  (Кубок хитрого собакена)\n",
      "1  0.138462               (Svoyachok)\n",
      "2  0.067308           (Тапир и Свояк)\n",
      "3  0.150000  (Большой летний тройник)\n",
      "\n",
      "\n",
      "     support                  itemsets\n",
      "0  0.067308           (Тапир и Свояк)\n",
      "1  0.138462               (Svoyachok)\n",
      "2  0.150000  (Большой летний тройник)\n",
      "3  0.644231  (Кубок хитрого собакена)\n"
     ]
    }
   ],
   "source": [
    "nlp_fpg = fpgrowth(df_new, min_support=0.03, use_colnames = True)\n",
    "print(nlp_fpg)\n",
    "\n",
    "nlp_fpm = fpmax(df_new, min_support=0.03, use_colnames = True)\n",
    "print(\"\\n\\n\",nlp_fpm)"
   ],
   "metadata": {
    "collapsed": false,
    "ExecuteTime": {
     "end_time": "2024-05-16T17:42:17.413405Z",
     "start_time": "2024-05-16T17:42:17.367587Z"
    }
   },
   "id": "b95be116841c5973",
   "execution_count": 59
  },
  {
   "cell_type": "code",
   "outputs": [
    {
     "name": "stdout",
     "output_type": "stream",
     "text": [
      "    support                  itemsets\n",
      "0  0.644231  (Кубок хитрого собакена)\n",
      "1  0.138462               (Svoyachok)\n",
      "2  0.067308           (Тапир и Свояк)\n",
      "3  0.150000  (Большой летний тройник)\n"
     ]
    }
   ],
   "source": [
    "print(nlp_fpg)"
   ],
   "metadata": {
    "collapsed": false,
    "ExecuteTime": {
     "end_time": "2024-05-16T17:42:17.440403Z",
     "start_time": "2024-05-16T17:42:17.417402Z"
    }
   },
   "id": "bac8198f6ff8ad39",
   "execution_count": 60
  },
  {
   "cell_type": "markdown",
   "source": [
    "6. Визуализировать результаты двух методов."
   ],
   "metadata": {
    "collapsed": false
   },
   "id": "6baa1b12f2dedc7c"
  },
  {
   "cell_type": "code",
   "outputs": [
    {
     "data": {
      "text/plain": "<Figure size 640x480 with 1 Axes>",
      "image/png": "[encoded data removed]"
     },
     "metadata": {},
     "output_type": "display_data"
    }
   ],
   "source": [
    "min_support_range = np.arange(0.01, 1., 0.01)\n",
    "itemsets_lengths = []\n",
    "threshold_supports = []\n",
    "threshold_lengths = []\n",
    "last_itemset_len = len(df_new.columns)\n",
    "for min_support in min_support_range:\n",
    "    fpg = fpgrowth(df_new, min_support=min_support, use_colnames=True)\n",
    "    itemsets_lengths.append(len(fpg))\n",
    "    fpg['length'] = fpg['itemsets'].apply(lambda x: len(x))\n",
    "    current_itemset_max_len = fpg['length' ].max()\n",
    "    if isnan(current_itemset_max_len):\n",
    "        current_itemset_max_len = 0\n",
    "    if current_itemset_max_len < last_itemset_len:\n",
    "        last_itemset_len = current_itemset_max_len\n",
    "    threshold_supports.append(min_support)\n",
    "    threshold_lengths.append(len(fpg))\n",
    "plt.figure()\n",
    "plt.plot(min_support_range.tolist(), itemsets_lengths)\n",
    "plt.plot(threshold_supports, threshold_lengths, 'ro')\n",
    "plt.show()"
   ],
   "metadata": {
    "collapsed": false,
    "ExecuteTime": {
     "end_time": "2024-05-16T17:42:18.408498Z",
     "start_time": "2024-05-16T17:42:17.448404Z"
    }
   },
   "id": "ed195e9704590e1f",
   "execution_count": 61
  },
  {
   "cell_type": "code",
   "outputs": [
    {
     "data": {
      "text/plain": "<Figure size 640x480 with 1 Axes>",
      "image/png": "[encoded data removed]"
     },
     "metadata": {},
     "output_type": "display_data"
    }
   ],
   "source": [
    "min_support_range = np.arange(0.01, 1., 0.01)\n",
    "itemsets_lengths = []\n",
    "threshold_supports = []\n",
    "threshold_lengths = []\n",
    "last_itemset_len = len(df_new.columns)\n",
    "for min_support in min_support_range:\n",
    "    fpm = fpmax(df_new, min_support=min_support, use_colnames=True)\n",
    "    itemsets_lengths.append(len(fpm))\n",
    "    fpm['length'] = fpm['itemsets'].apply(lambda x: len(x))\n",
    "    current_itemset_max_len = fpm['length' ].max()\n",
    "    if isnan(current_itemset_max_len):\n",
    "        current_itemset_max_len = 0\n",
    "    if current_itemset_max_len < last_itemset_len:\n",
    "        last_itemset_len = current_itemset_max_len\n",
    "    threshold_supports.append(min_support)\n",
    "    threshold_lengths.append(len(fpm))\n",
    "plt.figure()\n",
    "plt.plot(min_support_range.tolist(), itemsets_lengths)\n",
    "plt.plot(threshold_supports, threshold_lengths, 'ro')\n",
    "plt.show()"
   ],
   "metadata": {
    "collapsed": false,
    "ExecuteTime": {
     "end_time": "2024-05-16T17:43:09.953461Z",
     "start_time": "2024-05-16T17:43:08.481885Z"
    }
   },
   "id": "7588515415424326",
   "execution_count": 64
  },
  {
   "cell_type": "markdown",
   "source": [],
   "metadata": {
    "collapsed": false
   },
   "id": "99ec6b8529c96abf"
  },
  {
   "cell_type": "markdown",
   "source": [
    "7. Описать разницу методов и результаты.\n",
    "- В нашем примере алгоритмы отработали одинакова\n",
    "# Когда результаты FPGrowth и FPMax будут отличаться\n",
    "* Результаты FPGrowth и FPMax будут отличаться, когда существуют частые паттерны, которые являются подмножествами других частых паттернов. FPGrowth найдет все такие паттерны, тогда как FPMax отфильтрует их и оставит только максимальные.\n",
    "\n",
    "* Например, если у нас есть частые паттерны {A, B}, {A, B, C}, {A, B, C, D}, FPMax оставит только {A, B, C, D}, так как это единственный максимальный паттерн.\n",
    "\n",
    "# Преимущества и недостатки\n",
    "* FPGrowth: \n",
    "1) Позволяет найти все частые паттерны. \n",
    "2) Может генерировать большое количество паттернов, что может быть сложно для анализа.\n",
    "\n",
    "\n",
    "* FPMax:\n",
    "\n",
    "1) Находит только максимальные частые паттерны, что уменьшает объем данных для анализа.\n",
    "2) Может пропустить полезную информацию о частых подмножествах."
   ],
   "metadata": {
    "collapsed": false
   },
   "id": "354fb03b84c9b1a3"
  }
 ],
 "metadata": {
  "kernelspec": {
   "display_name": "Python 3",
   "language": "python",
   "name": "python3"
  },
  "language_info": {
   "codemirror_mode": {
    "name": "ipython",
    "version": 2
   },
   "file_extension": ".py",
   "mimetype": "text/x-python",
   "name": "python",
   "nbconvert_exporter": "python",
   "pygments_lexer": "ipython2",
   "version": "2.7.6"
  }
 },
 "nbformat": 4,
 "nbformat_minor": 5
}
